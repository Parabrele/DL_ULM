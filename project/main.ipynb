{
 "cells": [
  {
   "cell_type": "code",
   "execution_count": null,
   "metadata": {},
   "outputs": [],
   "source": [
    "\"\"\"\n",
    "algorithm :\n",
    "\n",
    "dataset = string + label\n",
    "\n",
    "activations = truncated_model(dataset)\n",
    "\n",
    "optional : activations = SAE(activations)\n",
    "\n",
    "activations = trivial_normalisation(activations)\n",
    "\n",
    "dataset = activations + label\n",
    "\n",
    "loss = CCS or other\n",
    "\n",
    "probe = probe\n",
    "\n",
    "train probe\n",
    "\n",
    "test generalisation\n",
    "\"\"\""
   ]
  }
 ],
 "metadata": {
  "language_info": {
   "name": "python"
  }
 },
 "nbformat": 4,
 "nbformat_minor": 2
}
