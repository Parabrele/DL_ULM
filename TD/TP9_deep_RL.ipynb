{
  "cells": [
    {
      "cell_type": "markdown",
      "metadata": {
        "colab_type": "text",
        "id": "view-in-github"
      },
      "source": [
        "<a href=\"https://colab.research.google.com/github/kscaman/DL_ENS/blob/main/TP/deep_reinforcement_learning.ipynb\" target=\"_parent\"><img src=\"https://colab.research.google.com/assets/colab-badge.svg\" alt=\"Open In Colab\"/></a>"
      ]
    },
    {
      "cell_type": "markdown",
      "metadata": {
        "id": "oJiauBGr6hUG"
      },
      "source": [
        "# Deep Reinforcement Learning\n",
        "\n",
        "In this practical, our objective is to replicate the famous [Deepmind paper on DQN](https://deepmind.google/discover/blog/deep-reinforcement-learning/) and train, using deep Q learning, an agent to play the Atari game [Breakout](https://www.gymlibrary.dev/environments/atari/breakout/)!\n",
        "The code is adapted from the following [Github repo](https://github.com/jacobaustin123/pytorch-dqn/) and the [Pytorch tutorial on DQL](https://pytorch.org/tutorials/intermediate/reinforcement_q_learning.html).\n"
      ]
    },
    {
      "cell_type": "code",
      "execution_count": 1,
      "metadata": {
        "id": "gSDfGk7DmOE5"
      },
      "outputs": [],
      "source": [
        "from IPython import display\n",
        "from IPython.display import HTML\n",
        "import gym\n",
        "import matplotlib.pyplot as plt\n",
        "from matplotlib import animation\n",
        "import numpy as np\n",
        "import torch\n",
        "import torch.nn as nn\n",
        "import torch.nn.functional as F\n",
        "import torch.optim as optim\n",
        "import torchvision\n",
        "from tqdm.notebook import tqdm\n",
        "\n",
        "# if gpu is to be used\n",
        "device = torch.device(\"cuda\" if torch.cuda.is_available() else \"cpu\")"
      ]
    },
    {
      "cell_type": "markdown",
      "metadata": {
        "id": "f4ZQ9LYLgh1V"
      },
      "source": [
        "First load the environment using `env = gym.make('BreakoutDeterministic-v4')` (you can search the [gym documentation](https://www.gymlibrary.dev/environments/atari/breakout/)). The environment is initialized through `env.reset()`, updated via `env.step(action)`, and a random action can be created via `env.action_space.sample()`. Plot the state, action and reward after one random step."
      ]
    },
    {
      "cell_type": "code",
      "execution_count": 2,
      "metadata": {
        "id": "UzApwg6-nbEw"
      },
      "outputs": [
        {
          "name": "stdout",
          "output_type": "stream",
          "text": [
            "Discrete(4)\n",
            "Box(0, 255, (210, 160, 3), uint8)\n"
          ]
        },
        {
          "name": "stderr",
          "output_type": "stream",
          "text": [
            "c:\\Users\\Grégoire\\AppData\\Local\\Programs\\Python\\Python310\\lib\\site-packages\\gym\\utils\\passive_env_checker.py:233: DeprecationWarning: `np.bool8` is a deprecated alias for `np.bool_`.  (Deprecated NumPy 1.24)\n",
            "  if not isinstance(terminated, (bool, np.bool8)):\n",
            "c:\\Users\\Grégoire\\AppData\\Local\\Programs\\Python\\Python310\\lib\\site-packages\\gym\\utils\\passive_env_checker.py:289: UserWarning: \u001b[33mWARN: No render fps was declared in the environment (env.metadata['render_fps'] is None or not defined), rendering may occur at inconsistent fps.\u001b[0m\n",
            "  logger.warn(\n"
          ]
        },
        {
          "data": {
            "image/png": "[encoded data removed]",
            "text/plain": [
              "<Figure size 640x480 with 1 Axes>"
            ]
          },
          "metadata": {},
          "output_type": "display_data"
        }
      ],
      "source": [
        "env = gym.make('BreakoutDeterministic-v4', render_mode='rgb_array')\n",
        "env.reset()\n",
        "\n",
        "# look at the action space\n",
        "print(env.action_space)\n",
        "\n",
        "# look at the observation space\n",
        "print(env.observation_space)\n",
        "\n",
        "_ = env.step(0)\n",
        "_ = env.step(1)\n",
        "_ = env.step(2)\n",
        "_ = env.step(3)\n",
        "\n",
        "# plot the current screen\n",
        "plt.figure()\n",
        "plt.imshow(env.render())\n",
        "plt.title('Example extracted screen')\n",
        "plt.show()"
      ]
    },
    {
      "cell_type": "markdown",
      "metadata": {
        "id": "wVPrs92prD3y"
      },
      "source": [
        "In what follows, we will encode a policy as a function `policy` that takes as input a state and returns a vector containing Q scores for each action (as a tensor of shape $(1,a)$ where $a$ is the number of possible actions). The following code will be used to create a video from a policy."
      ]
    },
    {
      "cell_type": "code",
      "execution_count": 3,
      "metadata": {
        "id": "_iZxGKnllCVz"
      },
      "outputs": [],
      "source": [
        "def create_video(policy, num_frames=100, preprocess=None):\n",
        "    def animation_update(num):\n",
        "        progress_bar.update(1)\n",
        "        ax.clear()\n",
        "        state = env.render()\n",
        "        ax.imshow(state)\n",
        "        state = state if preprocess is None else preprocess(state)\n",
        "        action = policy(state)\n",
        "        env.step(action)\n",
        "\n",
        "    fig, ax = plt.subplots(figsize=(6, 4), dpi=100)\n",
        "    env.reset()\n",
        "    for _ in range(np.random.randint(1, 10)):\n",
        "        env.step(0)\n",
        "    \n",
        "    state, _, done, _, _ = env.step(env.action_space.sample())\n",
        "    progress_bar = tqdm(total=num_frames)\n",
        "    anim = animation.FuncAnimation(fig, animation_update, frames=num_frames, interval=50)\n",
        "    anim = HTML(anim.to_html5_video())\n",
        "    progress_bar.close()\n",
        "    plt.close()\n",
        "    return anim"
      ]
    },
    {
      "cell_type": "markdown",
      "metadata": {
        "id": "Bcm81lJAlEf-"
      },
      "source": [
        "Create a video of a random agent playing Breakout."
      ]
    },
    {
      "cell_type": "code",
      "execution_count": 4,
      "metadata": {
        "id": "ttModBgQljJW"
      },
      "outputs": [
        {
          "data": {
            "application/vnd.jupyter.widget-view+json": {
              "model_id": "8782733a1c864fb9bdaf6a268c326759",
              "version_major": 2,
              "version_minor": 0
            },
            "text/plain": [
              "  0%|          | 0/100 [00:00<?, ?it/s]"
            ]
          },
          "metadata": {},
          "output_type": "display_data"
        },
        {
          "data": {
            "text/html": [
              "<video width=\"600\" height=\"400\" controls autoplay loop>\n",
              "  <source type=\"video/mp4\" src=\"data:video/mp4;base64,AAAAIGZ0eXBNNFYgAAACAE00ViBpc29taXNvMmF2YzEAAAAIZnJlZQAAL+JtZGF0AAACrwYF//+r\n",
              "3EXpvebZSLeWLNgg2SPu73gyNjQgLSBjb3JlIDE2NCByMzE2MSBhMzU0ZjExIC0gSC4yNjQvTVBF\n",
              "Ry00IEFWQyBjb2RlYyAtIENvcHlsZWZ0IDIwMDMtMjAyMyAtIGh0dHA6Ly93d3cudmlkZW9sYW4u\n",
              "b3JnL3gyNjQuaHRtbCAtIG9wdGlvbnM6IGNhYmFjPTEgcmVmPTMgZGVibG9jaz0xOjA6MCBhbmFs\n",
              "eXNlPTB4MzoweDExMyBtZT1oZXggc3VibWU9NyBwc3k9MSBwc3lfcmQ9MS4wMDowLjAwIG1peGVk\n",
              "X3JlZj0xIG1lX3JhbmdlPTE2IGNocm9tYV9tZT0xIHRyZWxsaXM9MSA4eDhkY3Q9MSBjcW09MCBk\n",
              "ZWFkem9uZT0yMSwxMSBmYXN0X3Bza2lwPTEgY2hyb21hX3FwX29mZnNldD0tMiB0aHJlYWRzPTEy\n",
              "IGxvb2thaGVhZF90aHJlYWRzPTIgc2xpY2VkX3RocmVhZHM9MCBucj0wIGRlY2ltYXRlPTEgaW50\n",
              "ZXJsYWNlZD0wIGJsdXJheV9jb21wYXQ9MCBjb25zdHJhaW5lZF9pbnRyYT0wIGJmcmFtZXM9MyBi\n",
              "X3B5cmFtaWQ9MiBiX2FkYXB0PTEgYl9iaWFzPTAgZGlyZWN0PTEgd2VpZ2h0Yj0xIG9wZW5fZ29w\n",
              "PTAgd2VpZ2h0cD0yIGtleWludD0yNTAga2V5aW50X21pbj0yMCBzY2VuZWN1dD00MCBpbnRyYV9y\n",
              "ZWZyZXNoPTAgcmNfbG9va2FoZWFkPTQwIHJjPWNyZiBtYnRyZWU9MSBjcmY9MjMuMCBxY29tcD0w\n",
              "LjYwIHFwbWluPTAgcXBtYXg9NjkgcXBzdGVwPTQgaXBfcmF0aW89MS40MCBhcT0xOjEuMDAAgAAA\n",
              "D2dliIQAO//+906/AptFl2oDklcK9sqkJlm5UmsB8qYAAAMAAAMAAAMC2vR4kzvk1PE2AAADAQd0\n",
              "j/A7X8AHuCbnHcgM7vi2vlYZUw50IyONIPYc8XmHfsZYPR5indM0578+MSmFfd67pC5cFr9Kt7ww\n",
              "UFWQNI3m33TEceYaLm+lH4A3VMLNiay/axSMoC66Yi7ydYPHqdlq8jA0V5yw+ArqHE3OEcQQ7zBP\n",
              "9bnQNJZeqf06UUBCm/kQpA3H2NdAR7DOAqNn2wSbrzBrV3vP8fk5pFtdFeKfJnuqJ5I6nXtHi7VR\n",
              "UhaDOT1Cj4SX4/NbbnO/zjJ2h6bX0KJNyi0Bh/YMIi3SaZusGoUtjEg8MyF1QlUJnY8AvqlTvlHW\n",
              "X1+u+9CY2k8dZq48LbiB5yCCM4n8lEEvASCVUwerQip8iu5eefrbyfYcz7xxicWf7ARwj9JaIS5V\n",
              "Wtxqu4xMzmfaJCD9hY4OL6v7U6XcPeaiZPm/zkJ4lnDtPqMnC+d9/fOyNqLJgUErhGPUetXI7YZG\n",
              "i4pRP6uP2Z/MDWj76eIQdkvK7sCHlXRpaL5H2vuZzmwNjL2e85fl8TnHfFylbSdfyzik2h8JS/xI\n",
              "1C17kw/QqEezrIUOzC7BwYIpZ+/4zw5hXNF45cOgAb9Edhsnm2q68irIuoV7MRNKLM6owHAgouR1\n",
              "z0dhelZJVGZ0kwuxaxuygYKoEcWziuMG90nkbk+ZlIVKaK7GA6v0gPRihBLZDcCZuj4/ui2hQ0se\n",
              "QIQmUFCZvKWSSXBQrotfzURa6egKfLK5ACGqz5Fg/KQTn4AcK3y2I/WH05J3J2n2SX61CyGPPZip\n",
              "Lz2ykM6NiDAi+3NU9kpR66fw+3MuEtEx28L05vuhiE3Hkx4PBJ3+RIAJcbzd3I7Lw5SJ/EmZBc/i\n",
              "1vWeTFTWtvgwtsUjOA61UjLyAoHW9AbhephYrorxBIHhPvC8AUO2KEY7KnuRtDi60jSaDfEWh3+u\n",
              "A5vc1rH61pSFtQUU8Mh6nNzU4QcfyoYAEqBRYkjMgc9xZphTHv1b5bMSTCnt2GAqvp0xUQHnJUZK\n",
              "QQA0GKhC/nKn2nCX6GtobpWB0lvRoVx4jnMQ1DIKo/H/zbqsGbe/u/UKrTNos0L293udGRJQlFDC\n",
              "+fVD1XvefzF49cQUL1amL8nSCAAAAwG/y4kmCM3bAtKB7bZne4UAY/XkJw5bzAaXATPRBeVSlS73\n",
              "y0ZD9UNg8l2G9gL9gKKgLv2CbnGTIIaIFaHVCVBf9o42dwnTQmBD78cwJeVr01+/T0VEhOfQ/55v\n",
              "cbYK7U03T308Urn/YbsPEASuQHAymPgT4yTNCFEBWnPO8lv9lqmHi5iOj7wyH/iFQ8G0CdS4uqCQ\n",
              "HrH2Zf+Brh2C9F3uOHLWS/38rxZuj4rPpKGrvwAAFusRwRGVrexrC/FQiCWE48H6STo8Rn+WsoSq\n",
              "0S+li8A+SyZoZFCwEutlCPQKU0oQrKEQvf7oCRgiMGcBH35Fc4U0mL6/Ok/aP9650WXq/i2mUA5N\n",
              "Oq/CYUqJ0d+w5vMJ2SuD9B1jYZunXLkJEYreAgAACwRtIqdN41EONy+8nEbuOthKCHQHUOw0ClJU\n",
              "HFKwUpCT1ds4ja6eczJzLt5WEvbRppMu4Qxo1TE9qSLqdQicqb2r9JueZA1FI+7Xv6b+1Ayp7kt7\n",
              "ehgQWAjfHSJcoRoPttjS1CfJjvnjynnD191A2YdgchZ/MjaMcKSOPx+8wg9QuxZOUarIYcOidwYx\n",
              "B7KIMnJdNya993DnzL1FN8iGqIm/pbCOIcrji0MU8bJIpVH0Ps/lsi6FgzEhfqzZFtq+LJ7aMCfh\n",
              "toAVBT/dk9GWY/Qq34cAABVLH6AaWvKroUNdvagITKYdM8zT08wb1WChlqeJUnOJbqZ9IETLNG1a\n",
              "xdGlGQb6NnnAq5PHWdnpeRtTrHsNCZ80OCwhH+gC1KxWW9tZQcs2WSP3az30g9fJIgW+VgK+fv8f\n",
              "cBc2WVL2TnWgF50koBRMo7+ISMMQ7lpP5uwf6d1V6pZzL6UOez5qUDXqwtavtFZyzRRSG+NSYG3E\n",
              "4JuAe/ctswATrVEnVV0oEhrdiu/dUrt+ds2FfzF4cQiQEQ7U2UriJoXSpzobB5UEOM9tMUxjrjbd\n",
              "v669PvJfixVuVzWQwH6xMhV9YYF75IJ6c16gqyuUZvqJvz5/Agp5q3IavVWAfYGthj538fbjfo5z\n",
              "K71XePI8vAofqBgUPQmbaM7sPNweR8O30C1Sdfhyn7/Td4b1UKGxBZjftbYSf3XZ3G2E5KNM0eER\n",
              "Jl6jt9c7324gRBbE0sAiYQz0RSdTdaNHUYVQiJ2as3SZujBBQux2qt7qgoONqbL6dFs4l5HUaJTI\n",
              "czqRVOhprLXspyTtYwcq9e1T0sqJnm9WIxFApHeeNfxYpOfa/3pgVmeJqTSlHSmFePG8fioC3QXR\n",
              "jqSFjO/j/mExHVG17f61gjiBZj1aIaYIV49gDh9+lHkZXu/zCh93/H/nxlbK0cVQNsnatBSt49Zg\n",
              "/EzKGHtPnybbPSGE8JjijntvTkIBfRDQxBIAIY5ZXsFaAqVQ8eV8BG3YSkCnINOupjV9VvC/vrq3\n",
              "bnGUdV619AwcvX189GS00uwuR8LPqESNLzOb2YjOomiCHFHvtCH9ygsCV/c1K3fMwof17HYmm96T\n",
              "nnG5MCwR5pX1ai5mSy1sibqjf8s510S/0L+XdvoqWIQozcDunksU0FyfpmG3hDUWPWwPUUnsYDUb\n",
              "LVALUyJWx0W+Nh8hfLJjflSxnh0xFabmTV6ft62sUgosVMoO3Nl9EIx5VDYaDRk10kJMIJDrqWOi\n",
              "Zh0awKch9iMABQDEib6pi0IcsXxGcSq6fLO2toTI/jxT/idQjs/f0vVvrkqtw856YxHYQFORmL7j\n",
              "hMA+b/zJGQYRhKp6ITbUw2J1QirwGiMFXQ85lRYP8WQp197RYwUZ240NUYFPlDy57NcMpPvf01fw\n",
              "UXL4+ihUPHqTJTQFHSTOKxRESbDJvc2Mcm4eWR+2TGAXKMNACLpRmuX5yWymsn4RKWAt+WpjDux7\n",
              "SNoZPTIVCN0bTXRkQf7zPDXKk2kUQBY8pgqHEWN3hkEazcDE9yF9eE8VxLBoM3TZEgzuFdCek8JK\n",
              "ECA4gEb0Z96Fn6gAhvFjY7qQgWuDQzrW7GVfg5/6AlEY9M9Q5wIeQBkSNYFhGWF5V2KdaCBefACl\n",
              "G7/tGJqODuRkcGBiA6wErjZVHrQGBqBvQYhXqvXKvewnsoWAQ8G1tneoQgjYzrklC8x9nYJEtfiy\n",
              "gg5ep0o5XuKnnGcm0Kwd1+I/PdOIHdw1PSxvfuxhx6g2NZoLgrG5cOaJiWXi1+6njdYx1tYX75it\n",
              "6Z2s0vn8w3rhaPnYWmKxE1jd0+gbwtJItz3WaXBYgfzTuBb0BAAVOs+zvBrge8Kpv2T13vQKH7dI\n",
              "R3ZmMEe6nl9+H3Jhdshn8mK5vbeYumJSilOLA1DfrWrV9+nO3tzLfJPUWo0TbiFtqTxcmsgi0Dxc\n",
              "PLHixmBuHGVm8eaY2uQntyOF6jcr/5cKdcM60lW8Z4BAinAVsU9vwk9usWzjZfB8nFtghz8+/UNp\n",
              "VfyJ/NDhxgZzcac5LRjy603pxV7WcAF3wqZUEVVgVtQRd6yqK1Pnzr9t9X8SYb6F28xHAJSpDZYc\n",
              "vW+PMNrD6ebjuL1Kf51/pZqeQCACKlNnEb4J2OPBnIFG5ohxUYpvmhnIdlW0XRMzVy6mB6dgAHp3\n",
              "NNXYVCx4x3kDjltltiGTPhAL1MsRs1Vv6nDkHRuVmWrkV7oCcz3wjg7Po0Tc8sygIjkRQp0h+vT+\n",
              "luI3n/NU6WqVcK05LQtHOBR79VDUHXu4QIdHhG8xIA7YGfe535R++SA34VKhHq+3XERBvlGh1riq\n",
              "mo6l84wPaN6hXcj9LchU2R7jeFwaVwgXkxM6LGB8CCfVyVruIPlHq/KGUX/ItO8WEhWZQwAV1bW5\n",
              "hcKpnEIUvWMD20WhVWiyjNNXHabBdnD24EdMbXz6W9w9YEtJbrin6C9dTRViODcqt2txIZV2h/Qw\n",
              "SvwJdqkcDlDenw7WkAAyOhtD6hTT4zgBaxwv0dWX/8CbbyFX93+W4GvOwEpclOK/C68LxEnZiynR\n",
              "absYu4atTSmdvbwb7w5cqbcZBKUwp9j1ebPL9dz/ohhF+XfJDMzLxrEyRbDMZMnaw+/uRTcDIPth\n",
              "EenehChe0ZYE83qoj+EhPy6Q8suc+q4EzMMzewDoOe+tcL0v6LqIuGauKa7UI3jyMwXHo2x+aZsU\n",
              "KFspWNI79qXdJush0Ed0ykG96G0w7jqQTXhXIyk1/+fma4jDWkYtGT87U1i+fbgHcwW1s8MuF+vu\n",
              "nk76d4Al8rEt2FTAk1zCV0vC++0xWYtzrGfW6CvRUN7QW+8QmcbB3g8oDlX1VmwireEoM0vIod5A\n",
              "q9GW1snotp0neFokQQ/eQx9cvTvrAI6TP5RUAA/XDZWuhYQA7GoIcd8IswvFA1lcX8qQ/2j+Wz4Q\n",
              "AAADAR7Uk+G+v02i1B1FhUk0JZzVJgmrDkh7qT/OKScxN0UYiPJFuJYYWpb7MGDDCp3OOrAO34RS\n",
              "NufprGse0SK1gz4vR5m6LM9K+1d1zS427fIEbBwS3aSXd2u55YsoWnW1SWjpE1BlHKDelMu2BYBk\n",
              "V/z6nQRppp4eKYRVqqWzKHVBSJEMw2GiPV7lhexJYnb0W1OlMV9xrCC1qt+/JFVPFrBELACV0Nps\n",
              "uwnQ9iVHyF67snPxGFVTQlioUBHRDfF5gAvYABLTR10MrAz1O3c6AwAKWs8u/80+5nMPdQh8V/gP\n",
              "RE5ezxUVxdi7qXbiwaf29vQZ7TYOM75oa0eN3a9tjlz0F+HJmfJLuyRNGmWZxEpVl7TN0j24WXOJ\n",
              "dYAzCp5bMiA+ZVBiNjnARj4aAAwYMSEKYw+z6ZRkxZ8PuOOHTyz/M1nyfOXJcsOxx2DWvEQraU9Y\n",
              "VDmprIL3s1Z0+SBEj1KtMVfdt3N9JwvDLoG7DgF3zapxNbviOiOCFVAAl4+697lfjyUOpzaXYX3E\n",
              "ep+dMtmenBnyUomu4pyH0Jnu8yKLor0PgSccdSNmFIkBEXgijTW829qrN8Gw8LF+xzqggi1M+dF8\n",
              "GBqQpeUwqDBI2ka5rjP9fvJwr23Clsr+TV4qIXnn9/82og1IruZGGxQ7beKX9Peqfs1o4CjbMA2u\n",
              "gEZn+r8QJdaMIlISXV6Ez59N1cuvqRADEbQ3Cw22HlrOY9tcNID7Y+vy5VQNOCMO8nF8fdSpu/NH\n",
              "v+xsgABPgvHwc4PHAAAA60GaJGxDv/6plgAkP0uLjUDoA9w418LLM/kF7Hw7YUUDAbk5v4Akp3gs\n",
              "RaoNqZVzvL3e2jkpmdlfRW43nbjzsUlvItxirYztSnKAIEwpyk52ThMsKHSiBhUyw2Ob8J0Zejt+\n",
              "MiVvolYYdWCX1TVVem/Z6uGR2TbBLLvaZg89m0sBhQs00aGcd/zpDUXyK+3glzR9YSpXxsXLu/st\n",
              "NfX9k2E+bZBJQz8A01QGMaAGhL57Xtz5v930PS5sBqHhBHMyK2yVawFI2UKiIBwYWlrO7tvRpbl+\n",
              "gQmb2WBBLY/0xsnnnF5oYAigw32ANSAAAAAeQZ5CeIZ/AArKhwsEtzmDnX5YtYqLXuj2YqGmhBdP\n",
              "AAAAGgGeYXRCvwAT5MI8AEdSkCju4zJ6iHsU1aXgAAAAFgGeY2pCvwAAAwBLddy8Z+GbY7FgTC0A\n",
              "AAA9QZpoSahBaJlMCG///qeEAAADAF0BQtNDtRABxtNcdlyT4dsaPMiX1/51ULUinrD00BoDprT7\n",
              "C2YKQlAxYQAAADlBnoZFESwz/wAAAwAo9NIvRwEpTqX//9rYALRcwziEljoHCdZD5SJ/0FgegV68\n",
              "L2LdArn4zhWEOmEAAABEAZ6ldEK/AAADAEqlXwRGa8AR7zmIvFfKBBY/yPMvRg475ujXQTtLR2Mp\n",
              "EcdQ3aoUr3QBpiYBZuSKJq0wGIhsqgxkAhcAAAAyAZ6nakK/AAADAEt5ugm6Y3sigAh7i/GpZoXY\n",
              "N38s0PW10cbSa7+GdpfKl6/e9QRwZcAAAABUQZqqSahBbJlMFEw3//6nhAAAAwAj3yNgQsH4T+uf\n",
              "ABNFGTc8qo0mtUGVmgGJ61/eHLizv7YZ8OJieLWFvv5hcWy0ubfGv+NPTXxv1jBr7jvHwd6AAAAA\n",
              "TwGeyWpCvwAAAwBJgzNtqNYevhCYm0AVvzo703pz8xva/BTUONxphCTKkU3yCTKHKei53vEA4Et1\n",
              "Zz0kHyyBiwA6RrJt5UIok4wk7SPgS+cAAAA3QZrLSeEKUmUwIb/+p4QAAAMADd+yohm59653V/MQ\n",
              "BtYAHK6goeffpE6pkyr11r1fMt3fLCacrQAAADVBmuxJ4Q6JlMCHf/6plgAAAwACt6N2VCZO8QDV\n",
              "K1jZYM/JYZ60ujbCMFG9D9q/AmbDGkpAWAAAAE5Bmw1J4Q8mUwId//6plgAAAwACuKFVtGnauYWj\n",
              "s3cikSaijjLpB5VVEuG12bTm/HkYW1zGZhWo5KtFXaCl0Lkkk9HMkpt+7vRQWL/d6bEAAABJQZsv\n",
              "SeEPJlMFETw///6plgAASH9jsAC6c/dhPg4//+j28xgzDmjjK7aowjz//e9pLv09Cay1lkqrgQcg\n",
              "gq2zOnv9dLmQm8X1TQAAACUBn05qQr8AAAMASJVIvW18+6p81xN8UuKqSfd9VNityn+iLRvRAAAA\n",
              "TEGbU0nhDyZTAh///qmWAAu3YY0HrWw3NQAEO6t5VGbnesYIfKYBVYZ2SEJHp1zMN5sRJhGsYRj5\n",
              "3JMriZgEi34f2nHn3VDHl88eTHAAAABJQZ9xRRE8M/8AAAMAJ1SnrJAN8ocvAMSUiYGaRz0TUxZb\n",
              "mNlTrJaUiR+xHv2McGPB0lWONdRoDizoGxa4e8OP+YeP60e7WZTVmgAAACoBn5B0Qr8AAAMASV0J\n",
              "NXtBmT7IpDASdAE5O4kvNl+HPhs0eT90eRtqwCEAAABFAZ+SakK/AAADAEl1+jVZfSqlwbUvMwA2\n",
              "rEZBPUSM6M4EFahBLRyrFLO9V0cbSa8DK7h9Sh9b144iFCtRtC9Dq76eiS7AAAAAckGbl0moQWiZ\n",
              "TAh///6plgAAAwAAaD3Sn3JSF7PIcw0Z/EXiTgBLV2Vafp3fVMAfSrfllXs2eP8Tu3SyU4djng/N\n",
              "LSbBXRibHJK11bIR53u+g/mm4aPW8RlgwamylsRrO9NXRo2oveqC3gl8lNfCMdhR1gAAADVBn7VF\n",
              "ESwz/wAAAwAn1NSTWu6GkgQGAAQd7u4dolRu3+sPVMj898qU2aGvjjWE/jh76WewfQAAAEcBn9R0\n",
              "Qr8AAAMASV0JCl0B7zZ8AE7eY4IHKHWrFXuHnVavc4XHLR1YiCpUTuKVC8xeKoxc8cYA5rVZ4KGN\n",
              "i/tFhbCfjEI7gAAAAB4Bn9ZqQr8AAAMASXX5+jow1hrrG3VPueQQqq1DmYUAAAB0QZvbSahBbJlM\n",
              "CHf//qmWAAADAAAgPVvIpAagDhWBICh3QBIG8sIwOXhTyIScozFmvls6IZgDfDJdEgcuFcKME1GN\n",
              "jybr1YTDwVaTNAw3QUhRfB4CUESiGbkQ+YedMo1tGbaE0TtOppelMNvKIdswy6jVDyEAAAAYQZ/5\n",
              "RRUsM/8AAAMAJ9TUkb7sLJPoMiafAAAAGQGeGHRCvwAAAwBJXQj4KkVjrt5BqALGwvkAAAAQAZ4a\n",
              "akK/AAADAEl1+fAbMAAAAL9Bmh9JqEFsmUwId//+qZYAHdP0oAoN0Avfe1hp42EdVg5/WzqLc6Hi\n",
              "FQ/3+a6MYHHZDVoa3RrV5IduCHsLToNAakMOGKpLdNjAJaz0k/H/dd/e372hSbKkhWNcYgpDDM3+\n",
              "Norotg6JrorKMr6cdsluMNKDiTEAUH9k049YMLA0zwwVnzgYfJSS5oAkMjupbLpzpRi2rZGZ4fD3\n",
              "OXsa0XoWEP9nDGggLEEb1ddyFzVVih874cTw0Tr1F/leggwyyQAAAEJBnj1FFSwz/wAaX4EFD4TQ\n",
              "VYlnhqdlGAC6j6r2ROL4R85dzKkTNcO9+6px3dhdO+kHMYid2PLJ1qJnrki04ocFnoEAAAAZAZ5c\n",
              "dEK/ADD/uun0UOC1s8XYZRSCiLh3gAAAAFIBnl5qQr8AAAMASqVfBEZrwBHvOYi8V8oEFj/I8y9G\n",
              "U++bo10E7UvWRr+yLzVCle6ANMTALNyRRRWxAYiGyp/QPW+S/dJjnUIUigqKYHcDXDN6AAAArUGa\n",
              "QUmoQWyZTBRMO//+qZYAAAMAEgVfp4AS1Hx4KsE+DrtItOPo68JbcDqvWnUsa/Gng1bZ2bu39clL\n",
              "nDjW8wITWYRE2lvss6TDI+3qhjdKpPHB8W2LriT8FAFtQq4yX0S6rN5Yy8My2VUff9/8uRfNttTg\n",
              "aTdyIvisM5X6XFQCVcT7mxs/PPOS3gGfBwObDjW7xZ3fQa/6GFP0X+/nbT3LlQh76hE6+TdP29bh\n",
              "AAAAQAGeYGpCvwAAAwBIlUj1vfxPoAhLi/GpZoXYN38s0PW10cbSa7+GdpiJ64Sc2ejLIR5W1pvk\n",
              "SVjJUwVd+6aD8UAAAABJQZpjSeEKUmUwUsO//qmWAAADABIfkdmvm34T+rwACEreYKiO9kUq7wbN\n",
              "AMXARe6ayEC5NYcQGaPEsNmryvwR5DkcaAt+l0/6gwAAACUBnoJqQr8AAAMASJVI951/f3+JnjaL\n",
              "hPvfQLhvwxI2rDFj6unrAAAAikGahknhDomUwId//qmWAAADAAb720Hv2J+EYZNACFOG3pYp2Fbc\n",
              "L9hCiCyZ/xyzenfuRmY5oGBkUsIdEQMcHVGxGA+BN6Lv56mgk0DlPYj8sszijjCfZAR5V691A7Wh\n",
              "hWm5R/9l62mDR0DaFZAKM1YHusYZnydLG8ZSnlgc7KPvZbmUMTzSDg7gHQAAACtBnqRFFTwv/wAA\n",
              "AwA1e513AYBM2imSnDt1eva96zacWdyxr7+jc2mu/OaBAAAAKQGexWpCvwAAAwBJdfqhSTcTTyLE\n",
              "EjgxHOviUnAzsiRFJxik7tTEvSd9AAAAsUGayEmoQWiZTBTw//6plgAAAwACu/CtrxVaf/ZCgAtN\n",
              "NN29/xYosltJqU7uZC7A3X0xdfeYM98dQ3LINO481V2dPEQeHGKqYqZ1TFBirtG+dJCcR5v4eM74\n",
              "dYO73OVrpk6rBylMRgo6Lu4cxwavl/ocb3I6k8GVGn+4en/AJGicIYoa12/nFogq/lmwHMpjwue9\n",
              "9Kzr99tmBTksB9BYpukoBcQjQpNxhvcqHUfddo0ypwAAAEUBnudqQr8AAAMASYMyI3+SxV8NJezU\n",
              "2S9ADgdMw1TLzvZXQs4Ybe+nypn/wDtCVadee2IydKyScyCKEXlt2GcgHVcWmvAAAABIQZrsSeEK\n",
              "UmUwIf/+qZYAAAMAAQn5iaFCxxAALquwHYBVY96OPDIH102m9bq/KOT1+ZRFcm90VZlY7BZ76hmC\n",
              "tu6sxYdJLiRYAAAAOUGfCkU0TDP/AAADACfStokfi/7HUAG3vzjFiTTny5JBb0ie6e2Sde5rv1Wr\n",
              "Fr/miBevF7kArwALaQAAAEQBnyl0Qr8AAAMASV0JMm+56YQBW/N4yVyXFEEmE2c+eEBjSQh/V1M6\n",
              "EZBjq2hIwGbjSdXtM0YCscsmsNHGS1dsAMNBwQAAAEIBnytqQr8AAAMASXX6CiLrg2pQugCEaIyC\n",
              "eokZ0ZwIK1CCWjlWKWd6ro42k14GV3D6gP9kpbk/BHgrSuSNW/He07AAAABRQZswSahBaJlMCHf/\n",
              "/qmWAAADAABoNn9uiAqX4ANpNE+ExcMBp60V/0V8vB7HsyUyl56oIb2e0cc/aDVr3uyTYfBt2uQ4\n",
              "2Q6ccL7XEsibSDeBAAAAOEGfTkURLDP/AAADACfU1JNbortH+SfSQAftu23k4Vpn+B1O3PdTZhER\n",
              "s5QJBHhMb91gVzY8Sz+BAAAARQGfbXRCvwAAAwBJXQkKXQHkWZIIAJ1pPsFaQLUlHNtirAprdQT0\n",
              "ydtMxRJIr1HVejD4eg+m6HzJ4S2CvGErcDGXR4B4oQAAADMBn29qQr8AAAMASXX6Cmt9Q6Y8GfKv\n",
              "xogBYDG5KVSHUYnc2MEgKeCZxKAC5twVrFwMS4gAAABiQZtySahBbJlMFEw///6plgAAAwER5XfY\n",
              "3LqgUAP9EcbFImh+fKitsclZUVCHfatm7GwP/abYf+e+KuP64JVvaKD7ximknuTmfWKBg/KjZwhE\n",
              "cZUVlqvIEK3kRzqvKAaBaMAAAAAmAZ+RakK/AAADAEmDMgPp9Ft4e1VBXasJh7YhaqSpZOPWBTb/\n",
              "AxsAAABQQZuWSeEKUmUwIf/+qZYAAAMAApe32OQX/IoADnFqby7YYt7V/928ykBTj84H7p8Zwftv\n",
              "P6ypNFQXcXKmvMeLv4J7VyEiB5HDplW3vZ2dXWUAAABcQZ+0RTRMM/8AAAMAJ9K2nWMmngdAC/25\n",
              "2vosBswr4YN6GiFoTtPqg2dkln8b7DIMauXYBQoZaL0fnTxWQ6M64O7A5RMMx5167rn9e5FQwO72\n",
              "f4c1tCFR2+d/EKUAAABOAZ/TdEK/AAADAEldCaFklwp3ALqD3Pt7ADj2oIANtxxdqPfIrR2wfC/7\n",
              "ScMYVAoVIukfsb83qXEQQJn68X+Wrku/6/cHoZgdnmlm8FJBAAAASwGf1WpCvwAAAwBJdfuobrXz\n",
              "Kc4bzAD+1bMYNs4rmV2m8lGXfH4rSlkcWWtrkoAohnmzAjm3xWdNZraJyDDntchmbpCXDBDfeKt1\n",
              "eAAAAE1Bm9pJqEFomUwId//+qZYAAAMAEQOJqgAh9vABRCd01gPk0fgZayTrt5f/8PqhkP6uaD+T\n",
              "xaZHFAEnkohIjJuu5kT7NQe7ErCloliyYQAAAElBn/hFESwz/wAAAwAn1NR9tZHCMrPFiv/ohAC3\n",
              "DSKFqPvVj6DgyhE4TXquuH8C7y7MqoFAfZ/pgsqPspvDl0m9+DqCMElOhmr5AAAAQQGeF3RCvwAA\n",
              "AwBJXQqpb6wBWp8jvt2j2aoHnytiuzMKYMn0zD0oioIbPZNvZ18c88Ap22Rw+qxTE5zo2iZ3w55w\n",
              "AAAAOgGeGWpCvwAAAwBJdfjcL1ERX2JXaAHzQhA+B/UZGC1WFid3hi53KO4JCQplHNqt6o3f6J/k\n",
              "KyCML+EAAAB6QZodSahBbJlMCH///qmWAAADACzcLfgywDgA5ceKvwuIFtD8P5+k9p3hmSTjeCkj\n",
              "Z7KVRY4SpzJX0i6v25xapHUuubucVmzFESElRZmw48mz7ypdUiv6nMZHs7hDUf40iIdLcgjJAXjS\n",
              "0yG66O0xMMBtYp/WTt2+heAAAAA/QZ47RRUsL/8AAAMANhEUhitj/XC+Gn3t8AN1401s1eD6DmjV\n",
              "9ogzFwEtGdH7pNSFnTF9HEcjsMR9sNC9fEuBAAAAPgGeXGpCvwAAAwBJddyo33AZSMe3ojHCVzcA\n",
              "EU6C2XUqFgH9MpyjY2v5cZLx9Og625qr5kcicfnSERra2AXVAAAAXkGaQUmoQWyZTAh3//6plgAA\n",
              "AwEQOeWC/hNwJVtefhUdpBr++4AEG505r9IHHx4QHTs4p9ODBLm+UZbGJVuY7G9eGYF6OO8ZYBKw\n",
              "mKnafw9G/Q2sdgSDmB1xikU6kq8AAABQQZ5/RRUsM/8AAAMAZL0gAbfkvzWSqTv3QfcmfCRhZs82\n",
              "qD2lX6vkPeFo3YDmoyg8+ciqjb2MnfJpQ7QxoNM+caLquLACXTrrvDxpN5SKMyIAAABOAZ6edEK/\n",
              "AAADALpkMinLrNC47/T7ewA49efgbtZ4iCXN8Z2v+LJQfn3/jFORsOAFGeV3YMV9HrcdDgz/zsxz\n",
              "fLNODezBfq3gcU0i3sGpAAAAPAGegGpCvwAAAwC6Mvh+EC7luAG1Qs4/6ROZxN75fybo+hObSctw\n",
              "947dkVRndpeiygguzmRvmF7+d+ueYAAAAFRBmoVJqEFsmUwId//+qZYAAAMC281TwAfjZ6JlH2Fv\n",
              "jXCMBY++eRkSqqg2277zpsU5hXujsLyRfO//CmdP/q2dDWTyXwzBqZZPh78iSg404yivk4EAAABL\n",
              "QZ6jRRUsM/8AAAMCfQGwic32FUB+jgBLJmIAWevzDFzKsDPdg46JzRmC9zHLqH4d4C4cg38ZhSDv\n",
              "nWIEleZeh9tdC046oMEkkG68AAAATgGewnRCvwAAAwHLsLgXM/gAsE6v0GsDvwUXr35DqkiVLmoM\n",
              "sHBVEqeUbu8QraK9Ep9fNRCfDO0gv9i0gJsJ82wKSwI47PhCxfuvpjAN5wAAAD4BnsRqQr8AAASX\n",
              "X+b7VtADTdyK7EZ6RS5X4ZvkBVlCJ3h3E8+ydOVgmvqWS1BWRtZyf9N5phv2Xxqk3ua2gQAAAORB\n",
              "msZJqEFsmUwIf//+qZYAIAPn+CbHcB+PwA6V1YD4vwE2+wKpvfMjULSA9xWwB/Ce8xYx9nNB5K1D\n",
              "/Ih+1u6f7hx3Tfsr+pif7qM+KWVKMes6GJvpGe7/Am1/d6OJ9VaKA7WAp4yEJjU5qmBapghAMMu3\n",
              "6ZBVSt4Lf/cwBCU70a3NOdpTvTmU/2OQx1DQvKY0B4NCRwuMex3Xyh7J0aA8YjuX42XxdFJGgK21\n",
              "H3YnGoWv3jJMOrU+95sGfXDYDxVBfECzdaZ3x2INo81MEE6BJye183gNFM/DBQFVOV/HBtxz4+cA\n",
              "AABsQZrqSeEKUmUwIf/+qZYAAEhoyVzcdykhYUArfJAALOV21SAnckGvpgAA4g4w2Wfs6PzM58sd\n",
              "dkTGjLblb60BPZQp6uTTXcGDH63A5Ba5ABBsWjjMse1HTM5SrJd7jL0L+xDj0wZWBbWvyZcRAAAA\n",
              "T0GfCEU0TDP/AAA+HGr3N/nQVVqKBKZ6g8h495EXWnDcAF1H09p0EqRQo/7H5mm5+y6N7cotTFlh\n",
              "SWx4p+/Da0PHRoEBbE0w1RByIARssugAAAA7AZ8ndEK/AABz+AhGpTO64c3pKP/Q4ASRcnza84DQ\n",
              "S/vYj5Wd798ZbA+nFHCVLdzUsruOpYjZBiRyKZQAAAAeAZ8pakK/AAADAc7DiWze0+tNZ0T7Cdte\n",
              "N2xE0fHxAAAATEGbLkmoQWiZTAh3//6plgAAAwBsscjbXPPgJgAPgH1V0aJ8UpY3Oop3T5RDwTpq\n",
              "BH1F8qbnYjtuQ2lF9P3FhZ5KYYNdfHh9SAJMtuAAAABGQZ9MRREsM/8AAAMA+LBOJaRYAce3abkt\n",
              "un5YILWB0iGS3S8AsGEY/4YN6mXKIsVP0jysk2hQgDo13LsYRFVtZQr4HoVCWgAAADwBn2t0Qr8A\n",
              "AAMAs/m+BxLHgBwZht0D9m1jbcwiInmsPoTm0nKgVtHLLofzivXwDSRZzHkB+bl3VfQWekEAAABG\n",
              "AZ9takK/AAADALW0+TIWWd3el2AHF1rdAWuvoKONwyv5fz+idmoleDr7LIiD9baO4gjUN0t3lFVS\n",
              "vQc/jGNZNEwFXPiPeQAAAFdBm3JJqEFsmUwId//+qZYAAAMAK78A4V/gHi34chnIwALk4qE/lb2e\n",
              "YDGk/0O4hMi6UJwNR6yezCnBDaWgobfj1jBqLlS+jIjOqHNTPeOBQkGHhQ0O2YEAAABBQZ+QRRUs\n",
              "M/8AAAMA+LBM6uz/v2EAAugoV9fTDxatwvF0jM0/0LUtlH4XPBAJ6UTtqXgqRCUJGK/rWhr2/PkY\n",
              "u4AAAAA5AZ+vdEK/AAADAEVdDaHKB3CMAQBrfgFv1Cy2HJvnfndn9lnUD+1d5b+kLKD7CiLb/pfh\n",
              "/gedb8b0AAAAQQGfsWpCvwAAAwAbtKjAER5MZOzpB0bdr4/56mL1gMi1NzjAzY6qybkh7sZfaug/\n",
              "MshKMUcnGpdsi5Z1e0xtjvEnAAAASkGbtUmoQWyZTAh3//6plgAAAwAGq9suxzbVZOZa3+8YAENl\n",
              "MyBHu6XaA6lZFnYx5OyQCJTSbgsxr3pJbzY/yE8tv9ZTICBG1lbsAAAASUGf00UVLC//AAADAVnI\n",
              "vBltleRDL38WAAtno32Uy44WyxNhoTvbXuhDkDMn8014PrC2ruXZBpFqZFGvQVuxY50C1GiYftwi\n",
              "CX8AAABNAZ/0akK/AAADAAsTkfQBHvOEu4oqnwq1sWkhG1ioM4LaySZ2C7SRREAe5HmtQH8745KL\n",
              "0s2xleO0t0O1D7FPjhbX64cuiBNEEQ53yjkAAABdQZv2SahBbJlMCHf//qmWAAADAAKpzzy+4APv\n",
              "10Tj0HB4RR2TexAKnPaz/5mhUATYBcgJ9UmxiGuTUrz+5D/pkCJZPVI76tTDYJSMMJmBonO2Zwbz\n",
              "ABJrtnqO9/AgAAAAT0GaGUnhClJlMCHf/qmWAAADAAKp8A4dU2/1MagVACErScugA77GyTDzyW0e\n",
              "HU2SXqiFjlUyv4SSOtlgLrgVYL/VKhVQbVBcC4LFtD2/xYEAAABQQZ43RTRML/8AAAMBWbVt+4Yr\n",
              "8oRKgACO1qMeCH7cw8m3ZEyCC9QEevULQS/Vw5tOd6lA3madBRrPJpPT5jYnjTsZmvp2MONKFcaS\n",
              "Ykz6GNEAAABDAZ5YakK/AAADAAQ2R8mQsc/jpdgBxipiLwj0A5SHGD3uUYVmWmM8mLOQb60gMiIP\n",
              "hfPF/O+AVeR1/b5AHzNgPqr5ngAAAKxBmlxJqEFomUwIb//+p4QAAAMAAf32VFCTT4GnZACduTt1\n",
              "wDkz03C331ZljsAuqw9ljj9or4i12xpGUPjqJgn7Gm1dJvAEQGZGn9QHzhhRPaib0q0Psqo4cj0l\n",
              "ZQtMm+bAJRpoYV/8XCsf7kNe3Js+Mhm3Rx/zGz0mA2x1AgLe3WIWnYrPAk3tVqKXufbBhfiZWE3L\n",
              "ELI84rUD6ZEq6AQmm4EVL5uQZdUrz5EXAAAAQkGeekURLC//AAADAVnIu/a9Uwy79NSXVokgBXZK\n",
              "uU0dhAuVsVWkcxjSwRN4Kq/n0wicHEx8WFevAUnmfc7n+BHiQAAAAEcBnptqQr8AAAMAAKZF/QGw\n",
              "pqRJP7Jlo9cNbKnkR/istYS2UIGlWgvjlyFiOR1LFyzVOzIoLH2lzupIkqR2RM21fvengsqsgQAA\n",
              "AElBmp1JqEFsmUwId//+qZYAAAMAAGg9tB7vMtIAEuOTuP4rZzOioO+HRevNMyRBwdgJWZL8jIGN\n",
              "m1lLImDyDZg4aZ0/A+lx1SgvAAAAJ0GaoUnhClJlMCGf/p4QAAADAAE1R+sJSxBFDi76RddniBZ+\n",
              "316mpAAAADdBnt9FNEwz/wAAAwD4o0rNbpGTE19LNeNQBBanOEqq4df8A+IrvL8NbR3ROaHUY9Pe\n",
              "19rdSL+AAAAAMQGe/nRCvwAAAwAAPsQOedHN/QAfCRPVrxpACfGdffp7Bf7k4QIIgQYCUOgbWNzF\n",
              "M6EAAAAUAZ7gakK/AAADAAA+IGhxVvA+nZgAAAAkQZrjSahBaJlMFPCv/jhAAAADAAPP6jfsze2b\n",
              "kuwrl40sNVwdAAAAHgGfAmpCvwAAAwHQr0QlwkBKJNewjbtBnxAJX/iVcAAAB6ttb292AAAAbG12\n",
              "aGQAAAAAAAAAAAAAAAAAAAPoAAATiAABAAABAAAAAAAAAAAAAAAAAQAAAAAAAAAAAAAAAAAAAAEA\n",
              "AAAAAAAAAAAAAAAAAEAAAAAAAAAAAAAAAAAAAAAAAAAAAAAAAAAAAAAAAAACAAAG1XRyYWsAAABc\n",
              "dGtoZAAAAAMAAAAAAAAAAAAAAAEAAAAAAAATiAAAAAAAAAAAAAAAAAAAAAAAAQAAAAAAAAAAAAAA\n",
              "AAAAAAEAAAAAAAAAAAAAAAAAAEAAAAACWAAAAZAAAAAAACRlZHRzAAAAHGVsc3QAAAAAAAAAAQAA\n",
              "E4gAAAQAAAEAAAAABk1tZGlhAAAAIG1kaGQAAAAAAAAAAAAAAAAAACgAAADIAFXEAAAAAAAtaGRs\n",
              "cgAAAAAAAAAAdmlkZQAAAAAAAAAAAAAAAFZpZGVvSGFuZGxlcgAAAAX4bWluZgAAABR2bWhkAAAA\n",
              "AQAAAAAAAAAAAAAAJGRpbmYAAAAcZHJlZgAAAAAAAAABAAAADHVybCAAAAABAAAFuHN0YmwAAAC4\n",
              "c3RzZAAAAAAAAAABAAAAqGF2YzEAAAAAAAAAAQAAAAAAAAAAAAAAAAAAAAACWAGQAEgAAABIAAAA\n",
              "AAAAAAEAAAAAAAAAAAAAAAAAAAAAAAAAAAAAAAAAAAAAAAAAAAAY//8AAAA2YXZjQwFkABb/4QAZ\n",
              "Z2QAFqzZQJgz5eEAAAMAAQAAAwAoDxYtlgEABmjr48siwP34+AAAAAAcdXVpZGtoQPJfJE/Fujml\n",
              "G88DI/MAAAAAAAAAGHN0dHMAAAAAAAAAAQAAAGQAAAIAAAAAFHN0c3MAAAAAAAAAAQAAAAEAAAL4\n",
              "Y3R0cwAAAAAAAABdAAAAAQAABAAAAAABAAAKAAAAAAEAAAQAAAAAAQAAAAAAAAABAAACAAAAAAEA\n",
              "AAoAAAAAAQAABAAAAAABAAAAAAAAAAEAAAIAAAAAAQAABgAAAAABAAACAAAAAAMAAAQAAAAAAQAA\n",
              "BgAAAAABAAACAAAAAAEAAAoAAAAAAQAABAAAAAABAAAAAAAAAAEAAAIAAAAAAQAACgAAAAABAAAE\n",
              "AAAAAAEAAAAAAAAAAQAAAgAAAAABAAAKAAAAAAEAAAQAAAAAAQAAAAAAAAABAAACAAAAAAEAAAoA\n",
              "AAAAAQAABAAAAAABAAAAAAAAAAEAAAIAAAAAAQAABgAAAAABAAACAAAAAAEAAAYAAAAAAQAAAgAA\n",
              "AAABAAAIAAAAAAIAAAIAAAAAAQAABgAAAAABAAACAAAAAAEAAAoAAAAAAQAABAAAAAABAAAAAAAA\n",
              "AAEAAAIAAAAAAQAACgAAAAABAAAEAAAAAAEAAAAAAAAAAQAAAgAAAAABAAAGAAAAAAEAAAIAAAAA\n",
              "AQAACgAAAAABAAAEAAAAAAEAAAAAAAAAAQAAAgAAAAABAAAKAAAAAAEAAAQAAAAAAQAAAAAAAAAB\n",
              "AAACAAAAAAEAAAgAAAAAAgAAAgAAAAABAAAKAAAAAAEAAAQAAAAAAQAAAAAAAAABAAACAAAAAAEA\n",
              "AAoAAAAAAQAABAAAAAABAAAAAAAAAAEAAAIAAAAAAQAABAAAAAABAAAKAAAAAAEAAAQAAAAAAQAA\n",
              "AAAAAAABAAACAAAAAAEAAAoAAAAAAQAABAAAAAABAAAAAAAAAAEAAAIAAAAAAQAACgAAAAABAAAE\n",
              "AAAAAAEAAAAAAAAAAQAAAgAAAAABAAAIAAAAAAIAAAIAAAAAAQAABAAAAAABAAAIAAAAAAIAAAIA\n",
              "AAAAAQAACAAAAAACAAACAAAAAAEAAAQAAAAAAQAACgAAAAABAAAEAAAAAAEAAAAAAAAAAQAAAgAA\n",
              "AAABAAAGAAAAAAEAAAIAAAAAHHN0c2MAAAAAAAAAAQAAAAEAAABkAAAAAQAAAaRzdHN6AAAAAAAA\n",
              "AAAAAABkAAASHgAAAO8AAAAiAAAAHgAAABoAAABBAAAAPQAAAEgAAAA2AAAAWAAAAFMAAAA7AAAA\n",
              "OQAAAFIAAABNAAAAKQAAAFAAAABNAAAALgAAAEkAAAB2AAAAOQAAAEsAAAAiAAAAeAAAABwAAAAd\n",
              "AAAAFAAAAMMAAABGAAAAHQAAAFYAAACxAAAARAAAAE0AAAApAAAAjgAAAC8AAAAtAAAAtQAAAEkA\n",
              "AABMAAAAPQAAAEgAAABGAAAAVQAAADwAAABJAAAANwAAAGYAAAAqAAAAVAAAAGAAAABSAAAATwAA\n",
              "AFEAAABNAAAARQAAAD4AAAB+AAAAQwAAAEIAAABiAAAAVAAAAFIAAABAAAAAWAAAAE8AAABSAAAA\n",
              "QgAAAOgAAABwAAAAUwAAAD8AAAAiAAAAUAAAAEoAAABAAAAASgAAAFsAAABFAAAAPQAAAEUAAABO\n",
              "AAAATQAAAFEAAABhAAAAUwAAAFQAAABHAAAAsAAAAEYAAABLAAAATQAAACsAAAA7AAAANQAAABgA\n",
              "AAAoAAAAIgAAABRzdGNvAAAAAAAAAAEAAAAwAAAAYnVkdGEAAABabWV0YQAAAAAAAAAhaGRscgAA\n",
              "AAAAAAAAbWRpcmFwcGwAAAAAAAAAAAAAAAAtaWxzdAAAACWpdG9vAAAAHWRhdGEAAAABAAAAAExh\n",
              "dmY2MC4xNi4xMDA=\n",
              "\">\n",
              "  Your browser does not support the video tag.\n",
              "</video>"
            ],
            "text/plain": [
              "<IPython.core.display.HTML object>"
            ]
          },
          "metadata": {},
          "output_type": "display_data"
        }
      ],
      "source": [
        "# create a video of a random policy\n",
        "\n",
        "anim = create_video(lambda x: env.action_space.sample(), num_frames=100)\n",
        "display.display(anim)"
      ]
    },
    {
      "cell_type": "markdown",
      "metadata": {
        "id": "djlaMApyoXwx"
      },
      "source": [
        "Create a class `EpsilonGreedy(policy, epsilon)` that takes a policy and returns its corresponding epsilon greedy strategy. To do so, create a method `__call__(self, state)` that returns a random action with probability epsilon, and the action chosen by the policy otherwise. Note that the output of the method should have a shape $(1,1)$.\n",
        "\n",
        "Finally, create a video of an epsilon-greedy strategy that goes left expect with probability $\\varepsilon = 0.5$."
      ]
    },
    {
      "cell_type": "code",
      "execution_count": 5,
      "metadata": {
        "id": "gk03W1O0lH3X"
      },
      "outputs": [],
      "source": [
        "class EpsilonGreedy:\n",
        "    def __init__(self, policy, eps=0.1):\n",
        "        self.policy = policy\n",
        "        self.eps = eps\n",
        "    \n",
        "    def __call__(self, state):\n",
        "        if np.random.rand() < self.eps:\n",
        "            return np.random.randint(0, 4)\n",
        "        else:\n",
        "            return self.policy(state)"
      ]
    },
    {
      "cell_type": "markdown",
      "metadata": {
        "id": "MaAc3mhe-oFr"
      },
      "source": [
        "## State pre-processing\n",
        "We would like to simplify the learning task by pre-processing the frames in two ways: 1) image pre-processing and 2) using frame sequences.\n",
        "\n",
        "1) The atari frame is large and contains scores at the top of the screen that is not useful for our agent (as a reward is already available). Using `torchvision.transforms` methods (`ToPILImage`, `Grayscale`, `Resize`, `functional.crop`), crop the image to a $144\\times 144$ image in grayscale, and flatten the resulting image to a vector of size $144\\times 144$. Test this preprocessing on an Atari frame."
      ]
    },
    {
      "cell_type": "code",
      "execution_count": 6,
      "metadata": {
        "id": "k1G2bzfP-nmY"
      },
      "outputs": [
        {
          "name": "stderr",
          "output_type": "stream",
          "text": [
            "c:\\Users\\Grégoire\\AppData\\Local\\Programs\\Python\\Python310\\lib\\site-packages\\torchvision\\transforms\\transforms.py:329: UserWarning: Argument 'interpolation' of type int is deprecated since 0.13 and will be removed in 0.15. Please use InterpolationMode enum.\n",
            "  warnings.warn(\n"
          ]
        },
        {
          "data": {
            "image/png": "[encoded data removed]",
            "text/plain": [
              "<Figure size 640x480 with 1 Axes>"
            ]
          },
          "metadata": {},
          "output_type": "display_data"
        }
      ],
      "source": [
        "img_preprocess = torchvision.transforms.Compose([\n",
        "    torchvision.transforms.ToPILImage(),\n",
        "    torchvision.transforms.Grayscale(),\n",
        "    lambda x : torchvision.transforms.functional.crop(x, 25, 8, 180, 144),\n",
        "    torchvision.transforms.Resize((84, 84), 0),\n",
        "    torchvision.transforms.ToTensor()\n",
        "])\n",
        "\n",
        "# try it on the current screen\n",
        "\n",
        "state = env.render()\n",
        "plt.figure()\n",
        "plt.imshow(img_preprocess(state).squeeze().numpy())\n",
        "plt.title('Example preprocessed screen')\n",
        "plt.show()"
      ]
    },
    {
      "cell_type": "markdown",
      "metadata": {
        "id": "g3HBOTifoTpg"
      },
      "source": [
        "To allow our model to access the speed and direction of the ball, augment the state of the environment by storing a sequence of 4 consecutive frames. To do so, create a class `FullPreprocessing` whose method `__call__(state)` updates a field `history` made of a concatenation of the 4 previous states and returns it."
      ]
    },
    {
      "cell_type": "code",
      "execution_count": 7,
      "metadata": {
        "id": "QzI_mIu6HJuY"
      },
      "outputs": [],
      "source": [
        "### YOUR CODE HERE ###"
      ]
    },
    {
      "cell_type": "markdown",
      "metadata": {
        "id": "vzy4BPxc8cJ5"
      },
      "source": [
        "## Deep Q Learning algorithm\n",
        "We are now going to implement the DQN algorithm. First, we need to encode the policy using a neural network. Create a convolutional neural network that takes a sequence of 4 frames from the game and returns a score for each possible action. The CNN will consist of 3 convlution layers `nn.Conv2d(4, 32, 8, stride=4), nn.Conv2d(32, 64, 4, stride=2), nn.Conv2d(64, 64, 3, stride=1)` followed by an MLP with 2 linear layers `nn.Linear(7 * 7 * 64, 1024), nn.Linear(1024, 4)` and `F.leaky_relu` as activation functions."
      ]
    },
    {
      "cell_type": "code",
      "execution_count": 8,
      "metadata": {
        "id": "mRGzg1FhH-aD"
      },
      "outputs": [],
      "source": [
        "### YOUR CODE HERE ###"
      ]
    },
    {
      "cell_type": "markdown",
      "metadata": {
        "id": "F0dMdYYHCFCS"
      },
      "source": [
        "To speed up the training, let's start from a pre-trained model and learn only the last layer. Create a function `good_init(model, filename)` that loads the model available [here](https://github.com/jacobaustin123/pytorch-dqn/blob/master/weights/breakout/good.pt), fix its parameters (`p.requires_grad=False` on all parameters p), and reinitialize the last layer."
      ]
    },
    {
      "cell_type": "code",
      "execution_count": 9,
      "metadata": {
        "id": "nGeL9U2kCD96"
      },
      "outputs": [],
      "source": [
        "### YOUR CODE HERE ###"
      ]
    },
    {
      "cell_type": "markdown",
      "metadata": {
        "id": "fQ0CjnNh4BFU"
      },
      "source": [
        "We then define a replay memory to sample past (state, action, reward) tuples."
      ]
    },
    {
      "cell_type": "code",
      "execution_count": 10,
      "metadata": {
        "id": "ssnONmioHnee"
      },
      "outputs": [],
      "source": [
        "class Memory:\n",
        "    def __init__(self, max_size):\n",
        "        self.max_size = max_size\n",
        "        self.full = False\n",
        "        self.curr = 0\n",
        "\n",
        "        self.states = torch.zeros((self.max_size, 84, 84), dtype=torch.uint8, device=device)\n",
        "        self.rewards = torch.zeros((self.max_size, 1), device=device)\n",
        "        self.actions = torch.zeros((self.max_size, 1), dtype=torch.uint8, device=device)\n",
        "        self.terminals = torch.zeros((self.max_size, 1), dtype=torch.uint8, device=device)\n",
        "\n",
        "    def store(self, state, action, reward, terminal):\n",
        "        idx = self.curr % self.max_size\n",
        "\n",
        "        self.states[idx] = (state * 255).to(torch.uint8).to(device)\n",
        "        self.actions[idx] = action\n",
        "        self.rewards[idx] = reward\n",
        "        self.terminals[idx] = terminal\n",
        "\n",
        "        self.increment()\n",
        "\n",
        "    def size(self):\n",
        "        return self.max_size if self.full else self.curr\n",
        "\n",
        "    def increment(self):\n",
        "        if self.curr + 1 == self.max_size:\n",
        "            self.full = True\n",
        "\n",
        "        self.curr = (self.curr + 1) % self.max_size\n",
        "\n",
        "    def index(self, idx):\n",
        "        if len(idx) == 0 or self.size() < idx.max():\n",
        "            raise ValueError(\"Not enough elements in cache to sample {} elements\".format(len(idx)))\n",
        "\n",
        "        return (self.states[idx].to(device).to(torch.float32) / 255.), \\\n",
        "                self.actions[idx].to(device).to(torch.long), \\\n",
        "                self.rewards[idx].to(device), \\\n",
        "                self.terminals[idx].to(device).to(torch.int16)\n",
        "\n",
        "    def _process_idx(self, idx):\n",
        "        return idx % self.max_size\n",
        "\n",
        "    def sample(self, N):\n",
        "        if self.size() - 4 < N:\n",
        "            raise ValueError(\"Not enough elements in cache to sample {} elements\".format(N))\n",
        "\n",
        "        idx = np.random.choice(self.size() - 4, N)\n",
        "        idx = self._process_idx(idx)\n",
        "        state_idx = self._process_idx((idx.reshape(-1, 1) + np.array([0, 1, 2, 3]).reshape(1, -1)).flatten())\n",
        "        next_state_idx = self._process_idx((idx.reshape(-1, 1) + np.array([0, 1, 2, 3]).reshape(1, -1)).flatten() + 1)\n",
        "\n",
        "        states = []\n",
        "        next_states = []\n",
        "        actions = []\n",
        "        rewards = []\n",
        "        terminals = []\n",
        "\n",
        "        _, a, r, t = self.index(idx)\n",
        "        s, _, _, _ = self.index(state_idx)\n",
        "        ns, _, _, _ = self.index(next_state_idx)\n",
        "\n",
        "        states.append(s)\n",
        "        next_states.append(ns)\n",
        "        actions.append(a)\n",
        "        rewards.append(r)\n",
        "        terminals.append(t)\n",
        "\n",
        "        return torch.cat(states).reshape(-1, 4, states[0].shape[1], states[0].shape[2]), \\\n",
        "               torch.cat(next_states).reshape(-1, 4, states[0].shape[1], states[0].shape[2]), \\\n",
        "               torch.cat(actions), \\\n",
        "               torch.cat(rewards), \\\n",
        "               torch.cat(terminals)\n"
      ]
    },
    {
      "cell_type": "markdown",
      "metadata": {
        "id": "H7j8QzyWFy9W"
      },
      "source": [
        "The optimization step performs one step of Q-Learning. Fill in the blanks by computing the loss function, computing the correct gradient, clipping the gradient, and performing one step of the optimizer."
      ]
    },
    {
      "cell_type": "code",
      "execution_count": 11,
      "metadata": {
        "id": "jHwA2ugTFy9c"
      },
      "outputs": [],
      "source": [
        "def optim_step(mem, model, target_model, loss_func, optimizer):\n",
        "    states, next_states, actions, rewards, terminals = mem.sample(BATCH_SIZE)\n",
        "    mask = (1 - terminals).float()\n",
        "    y = rewards + mask * GAMMA * torch.max(target_model(next_states), dim=1).values.view(-1, 1).detach()\n",
        "    y = y.squeeze()\n",
        "    x = model(states)[range(BATCH_SIZE), actions.squeeze()]\n",
        "\n",
        "    ### YOUR CODE HERE ###"
      ]
    },
    {
      "cell_type": "markdown",
      "metadata": {
        "id": "k4GX2O9rGAo0"
      },
      "source": [
        "This code initializes the training parameters, models and optimizers."
      ]
    },
    {
      "cell_type": "code",
      "execution_count": 12,
      "metadata": {
        "id": "KPabJT92Hw7f"
      },
      "outputs": [
        {
          "ename": "NameError",
          "evalue": "name 'Model' is not defined",
          "output_type": "error",
          "traceback": [
            "\u001b[1;31m---------------------------------------------------------------------------\u001b[0m",
            "\u001b[1;31mNameError\u001b[0m                                 Traceback (most recent call last)",
            "Cell \u001b[1;32mIn[12], line 12\u001b[0m\n\u001b[0;32m      9\u001b[0m NUM_TEST \u001b[38;5;241m=\u001b[39m \u001b[38;5;241m5\u001b[39m\n\u001b[0;32m     11\u001b[0m mem \u001b[38;5;241m=\u001b[39m Memory(MEM_SIZE)\n\u001b[1;32m---> 12\u001b[0m model \u001b[38;5;241m=\u001b[39m \u001b[43mModel\u001b[49m()\u001b[38;5;241m.\u001b[39mto(device)\n\u001b[0;32m     13\u001b[0m good_init(model)\n\u001b[0;32m     14\u001b[0m model \u001b[38;5;241m=\u001b[39m model\u001b[38;5;241m.\u001b[39mto(device)\n",
            "\u001b[1;31mNameError\u001b[0m: name 'Model' is not defined"
          ]
        }
      ],
      "source": [
        "MEM_SIZE = int(1e5) # this is either 250k or 1 million in the paper (size of replay memory)\n",
        "EPISODES = int(2e3) # total training episodes\n",
        "BATCH_SIZE = 32 # minibatch update size\n",
        "GAMMA = 0.99 # discount factor\n",
        "UPDATE_FREQ = 4 # perform minibatch update once every UPDATE_FREQ\n",
        "TARGET_UPDATE_EVERY = 40000 # (frames)\n",
        "INIT_MEMORY_SIZE = 1000 #20000 # initial size of memory before minibatch updates begin\n",
        "TEST_EVERY = 100 # (episodes)\n",
        "NUM_TEST = 5\n",
        "\n",
        "mem = Memory(MEM_SIZE)\n",
        "model = Model().to(device)\n",
        "good_init(model)\n",
        "model = model.to(device)\n",
        "target_model = Model().to(device)\n",
        "target_model.load_state_dict(model.state_dict())\n",
        "optimizer = optim.Adam(model.parameters(), lr=1e-5, eps=1.5e-4)\n",
        "loss_func = nn.SmoothL1Loss()\n",
        "num_frames = 0"
      ]
    },
    {
      "cell_type": "markdown",
      "metadata": {
        "id": "FrppqeYuGLph"
      },
      "source": [
        "And finally the training loop! Fill in the gaps."
      ]
    },
    {
      "cell_type": "code",
      "execution_count": null,
      "metadata": {
        "id": "-Bf0zWNZMQrd"
      },
      "outputs": [],
      "source": [
        "def test():\n",
        "    print(\"[TESTING]\")\n",
        "    total_reward = 0\n",
        "    policy = EpsilonGreedy(model, 0.01)\n",
        "\n",
        "    for i in range(NUM_TEST):\n",
        "        ### YOUR CODE HERE ###\n",
        "\n",
        "    total_reward /= NUM_TEST\n",
        "    print(f\"[TESTING] Total Reward: {total_reward:.1f}\")\n",
        "\n",
        "def train(episode, num_frames):\n",
        "    epsilon = max(0.1, 1 - (0.9 * num_frames) / 2e4)\n",
        "    policy = EpsilonGreedy(model, epsilon)\n",
        "    ### YOUR CODE HERE ###\n",
        "\n",
        "    while not done:\n",
        "        ### YOUR CODE HERE ###\n",
        "\n",
        "        if mem.size() < INIT_MEMORY_SIZE:\n",
        "            continue\n",
        "\n",
        "        if num_frames % UPDATE_FREQ == 0:\n",
        "            optim_step(mem, model, target_model, loss_func, optimizer)\n",
        "\n",
        "        if num_frames % TARGET_UPDATE_EVERY == 0: # reset target to source\n",
        "            target_model.load_state_dict(model.state_dict())\n",
        "\n",
        "    print(f\"[EPISODE {episode}] Total Reward: {total_reward:.1f}, Epsilon: {epsilon:.2f}, Total Frames: {num_frames}, Memory Size: {mem.size()}\")\n",
        "    return num_frames\n",
        "\n",
        "for episode in range(EPISODES):\n",
        "    num_frames = train(episode, num_frames)\n",
        "    if episode % TEST_EVERY == 0:\n",
        "        test()"
      ]
    },
    {
      "cell_type": "markdown",
      "metadata": {
        "id": "HkzV-N0471dY"
      },
      "source": [
        "Create a video of the new agent playing Breakout. How is the agent performing?"
      ]
    },
    {
      "cell_type": "code",
      "execution_count": null,
      "metadata": {
        "id": "0EpvWfjPcg68"
      },
      "outputs": [],
      "source": [
        "### YOUR CODE HERE ###"
      ]
    }
  ],
  "metadata": {
    "accelerator": "GPU",
    "colab": {
      "authorship_tag": "ABX9TyMh7EnwEPTOENRlyfiM1/6o",
      "include_colab_link": true,
      "provenance": []
    },
    "gpuClass": "standard",
    "kernelspec": {
      "display_name": "Python 3",
      "name": "python3"
    },
    "language_info": {
      "codemirror_mode": {
        "name": "ipython",
        "version": 3
      },
      "file_extension": ".py",
      "mimetype": "text/x-python",
      "name": "python",
      "nbconvert_exporter": "python",
      "pygments_lexer": "ipython3",
      "version": "3.10.9"
    }
  },
  "nbformat": 4,
  "nbformat_minor": 0
}
