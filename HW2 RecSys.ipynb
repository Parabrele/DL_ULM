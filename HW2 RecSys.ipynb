{
 "cells": [
  {
   "cell_type": "markdown",
   "id": "b36ac733",
   "metadata": {},
   "source": [
    "# Recommender systems\n",
    "\n",
    "In recommender systems, we either assume:\n",
    "\n",
    "- that we know the **rating** that some user gave to some item (for example, \"Joseph Marchand gave 4 stars over 5 to the Suzume movie\"), this is called *explicit feedback*\n",
    "- that we only observe the user interacting with items in a sequence (for example, which songs are played on Spotify or YouTube in which order), but **no ratings**; this is called *implicit feedback*.\n",
    "\n",
    "In this homework, you will build models that optimize either the first setting or the second one.\n",
    "\n",
    "First, execute all cells to ensure you have the necessary packages.\n",
    "\n",
    "## Part 1: Explicit feedback"
   ]
  },
  {
   "cell_type": "code",
   "execution_count": 1,
   "id": "52deba16",
   "metadata": {},
   "outputs": [],
   "source": [
    "# !pip install spotlight  # Used as baseline and for preparing datasets\n",
    "import torch\n",
    "from torch import nn\n",
    "import numpy as np\n",
    "from spotlight.cross_validation import random_train_test_split\n",
    "from spotlight.datasets.movielens import get_movielens_dataset\n",
    "from spotlight.evaluation import rmse_score\n",
    "from spotlight.factorization.explicit import ExplicitFactorizationModel\n",
    "from tqdm import tqdm\n",
    "\n",
    "from matplotlib import pyplot as plt"
   ]
  },
  {
   "cell_type": "code",
   "execution_count": 2,
   "id": "6535cf06",
   "metadata": {},
   "outputs": [
    {
     "name": "stdout",
     "output_type": "stream",
     "text": [
      "<Interactions dataset (944 users x 1683 items x 100000 interactions)>\n"
     ]
    }
   ],
   "source": [
    "dataset = get_movielens_dataset(variant='100K')\n",
    "print(dataset)\n",
    "\n",
    "train, test = random_train_test_split(dataset)"
   ]
  },
  {
   "cell_type": "code",
   "execution_count": 3,
   "id": "4a36697d",
   "metadata": {},
   "outputs": [
    {
     "data": {
      "text/plain": [
       "{'num_users': 944,\n",
       " 'num_items': 1683,\n",
       " 'user_ids': array([655, 385, 870, ..., 493, 693, 798]),\n",
       " 'item_ids': array([1560, 1071,  332, ...,   61,  604,   82]),\n",
       " 'ratings': array([2., 4., 2., ..., 4., 3., 4.], dtype=float32),\n",
       " 'timestamps': array([887429136, 879448426, 879982785, ..., 884131263, 875484480,\n",
       "        875915855]),\n",
       " 'weights': None}"
      ]
     },
     "execution_count": 3,
     "metadata": {},
     "output_type": "execute_result"
    }
   ],
   "source": [
    "train.__dict__"
   ]
  },
  {
   "cell_type": "markdown",
   "id": "42b7d9e9",
   "metadata": {},
   "source": [
    "Users are numbered from 1 to 943 and items are numbered from 1 to 1682.  \n",
    "Number of users is set to 944 and number of items is set to 1683 to avoid off-by-one errors."
   ]
  },
  {
   "cell_type": "code",
   "execution_count": 4,
   "id": "e7752203",
   "metadata": {},
   "outputs": [
    {
     "name": "stdout",
     "output_type": "stream",
     "text": [
      "As an example, user 655 gave 2.0 stars to item 1560.\n"
     ]
    }
   ],
   "source": [
    "print(f\"As an example, user {train.user_ids[0]} gave {train.ratings[0]} stars to item {train.item_ids[0]}.\")"
   ]
  },
  {
   "cell_type": "code",
   "execution_count": 5,
   "id": "3d7cb95d",
   "metadata": {},
   "outputs": [
    {
     "data": {
      "text/plain": [
       "0.8"
      ]
     },
     "execution_count": 5,
     "metadata": {},
     "output_type": "execute_result"
    }
   ],
   "source": [
    "len(train) / len(dataset)"
   ]
  },
  {
   "cell_type": "markdown",
   "id": "b19820d7",
   "metadata": {},
   "source": [
    "Train / test is a 80:20 split. We should predict in the test set what is the rating for an unseen (user, item) pair: it is a regression problem."
   ]
  },
  {
   "cell_type": "markdown",
   "metadata": {},
   "source": [
    "### NOTE ###\n",
    "_____\n",
    "This model is juste a score mapping between users and items, it do not take into account any history.\n",
    "\n",
    "Istead of storing a big n_users x n_items matrix, it stores two small n_users x c and n_items x c matrix used to make dot products on run time."
   ]
  },
  {
   "cell_type": "code",
   "execution_count": 6,
   "id": "a72a838e",
   "metadata": {},
   "outputs": [
    {
     "data": {
      "text/plain": [
       "0.98261696"
      ]
     },
     "execution_count": 6,
     "metadata": {},
     "output_type": "execute_result"
    }
   ],
   "source": [
    "explicit_model = ExplicitFactorizationModel(n_iter=2)\n",
    "losses = explicit_model.fit(train)\n",
    "\n",
    "rmse_score(explicit_model, test)"
   ]
  },
  {
   "cell_type": "markdown",
   "id": "f86fb13e",
   "metadata": {},
   "source": [
    "A first exercise is to reproduce this metric. We will do it together in order to make sure that we talk about the same thing, i.e.:\n",
    "\n",
    "$$\\text{RMSE}(y^*, y) = \\sqrt{\\frac1N \\sum_{i = 1}^N (y^*_i - y_i)^2}$$"
   ]
  },
  {
   "cell_type": "code",
   "execution_count": 7,
   "metadata": {},
   "outputs": [
    {
     "data": {
      "image/png": "[encoded data removed]",
      "text/plain": [
       "<Figure size 640x480 with 1 Axes>"
      ]
     },
     "metadata": {},
     "output_type": "display_data"
    }
   ],
   "source": [
    "plt.plot(range(len(losses)), losses)\n",
    "plt.show()"
   ]
  },
  {
   "cell_type": "code",
   "execution_count": 8,
   "id": "e51310dd",
   "metadata": {},
   "outputs": [],
   "source": [
    "def our_rmse(y_true, y_pred):\n",
    "    return ((y_true - y_pred) ** 2).mean() ** 0.5"
   ]
  },
  {
   "cell_type": "code",
   "execution_count": 9,
   "id": "38d2feed",
   "metadata": {},
   "outputs": [
    {
     "data": {
      "text/plain": [
       "array([3.3740337, 2.7116828, 3.60721  , ..., 3.4970596, 3.55511  ,\n",
       "       4.311011 ], dtype=float32)"
      ]
     },
     "execution_count": 9,
     "metadata": {},
     "output_type": "execute_result"
    }
   ],
   "source": [
    "explicit_y_pred = explicit_model.predict(test.user_ids, test.item_ids)\n",
    "explicit_y_pred"
   ]
  },
  {
   "cell_type": "code",
   "execution_count": 10,
   "id": "826d1967",
   "metadata": {},
   "outputs": [
    {
     "data": {
      "text/plain": [
       "(tensor([[ 655, 1560],\n",
       "         [ 385, 1071],\n",
       "         [ 870,  332],\n",
       "         [  18,  968],\n",
       "         [ 230,   99]]),\n",
       " tensor([2., 4., 2., 3., 3.]))"
      ]
     },
     "execution_count": 10,
     "metadata": {},
     "output_type": "execute_result"
    }
   ],
   "source": [
    "X_train = torch.LongTensor(np.column_stack((train.user_ids, train.item_ids)))\n",
    "X_test = torch.LongTensor(np.column_stack((test.user_ids, test.item_ids)))\n",
    "y_train = torch.Tensor(train.ratings)\n",
    "y_test = torch.Tensor(test.ratings)\n",
    "\n",
    "X_train[:5], y_train[:5]"
   ]
  },
  {
   "cell_type": "code",
   "execution_count": 11,
   "id": "4870483d",
   "metadata": {},
   "outputs": [
    {
     "data": {
      "text/plain": [
       "tensor(0.9826)"
      ]
     },
     "execution_count": 11,
     "metadata": {},
     "output_type": "execute_result"
    }
   ],
   "source": [
    "our_rmse(y_test, explicit_y_pred)"
   ]
  },
  {
   "cell_type": "markdown",
   "id": "39d3f5ff",
   "metadata": {},
   "source": [
    "> *Yes, I got the same thing.*\n",
    "\n",
    "— The Social Network"
   ]
  },
  {
   "cell_type": "code",
   "execution_count": 12,
   "id": "b18aca4e",
   "metadata": {},
   "outputs": [
    {
     "data": {
      "text/plain": [
       "tensor(1.1245)"
      ]
     },
     "execution_count": 12,
     "metadata": {},
     "output_type": "execute_result"
    }
   ],
   "source": [
    "our_rmse(y_test, torch.ones_like(y_test) * y_train.mean())  # Simplest baseline"
   ]
  },
  {
   "cell_type": "code",
   "execution_count": 13,
   "metadata": {},
   "outputs": [
    {
     "name": "stdout",
     "output_type": "stream",
     "text": [
      "Train mean: 3.528, std: 1.126\n",
      "Test mean: 3.539, std: 1.124\n"
     ]
    }
   ],
   "source": [
    "tr_mean = y_train.mean()\n",
    "te_mean = y_test.mean()\n",
    "tr_std = y_train.std()\n",
    "te_std = y_test.std()\n",
    "\n",
    "print(f\"Train mean: {tr_mean:.3f}, std: {tr_std:.3f}\")\n",
    "print(f\"Test mean: {te_mean:.3f}, std: {te_std:.3f}\")"
   ]
  },
  {
   "cell_type": "code",
   "execution_count": 14,
   "id": "c30f2d52",
   "metadata": {},
   "outputs": [],
   "source": [
    "BATCH_SIZE = 256\n",
    "train_dataset = torch.utils.data.TensorDataset(X_train, y_train)\n",
    "test_dataset = torch.utils.data.TensorDataset(X_test, y_test)\n",
    "train_iter = torch.utils.data.DataLoader(train_dataset, batch_size=BATCH_SIZE, shuffle=True)\n",
    "test_iter = torch.utils.data.DataLoader(test_dataset, batch_size=BATCH_SIZE)"
   ]
  },
  {
   "cell_type": "code",
   "execution_count": 15,
   "id": "943f3e1a",
   "metadata": {},
   "outputs": [],
   "source": [
    "class CollaborativeFilteringModel(nn.Module):\n",
    "    \"\"\"\n",
    "    Recommender system for explicit feedback\n",
    "    \"\"\"\n",
    "    def __init__(self, nb_users, nb_items, embedding_size):\n",
    "        super().__init__()\n",
    "\n",
    "        self.embedding_size = embedding_size\n",
    "\n",
    "        self.user_embedding = nn.Embedding(nb_users, embedding_size)\n",
    "        self.user_embedding.weight.data.normal_(0, 1.0 / embedding_size)\n",
    "\n",
    "        self.item_embedding = nn.Embedding(nb_items, embedding_size)\n",
    "        self.item_embedding.weight.data.normal_(0, 1.0 / embedding_size)\n",
    "        \n",
    "        self.user_bias = nn.Embedding(nb_users, 1)\n",
    "        self.user_bias.weight.data.normal_(0, 1.0 / 1)\n",
    "\n",
    "        self.item_bias = nn.Embedding(nb_items, 1)\n",
    "        self.item_bias.weight.data.normal_(0, 1.0 / 1)\n",
    "\n",
    "    def forward(self, x):\n",
    "        users = x[:, 0]\n",
    "        items = x[:, 1]\n",
    "\n",
    "        u = self.user_embedding(users)\n",
    "        v = self.item_embedding(items)\n",
    "        \n",
    "        u_b = self.user_bias(users)\n",
    "        v_b = self.item_bias(items)\n",
    "\n",
    "        return (u * v).sum(1) + u_b + v_b\n",
    "\n",
    "EMBEDDING_SIZE = 20\n",
    "collab_model = CollaborativeFilteringModel(train.num_users, train.num_items, EMBEDDING_SIZE)"
   ]
  },
  {
   "cell_type": "code",
   "execution_count": 16,
   "id": "8b2c66d1",
   "metadata": {},
   "outputs": [],
   "source": [
    "N_EPOCHS = 2\n",
    "LEARNING_RATE = 1e-2"
   ]
  },
  {
   "cell_type": "code",
   "execution_count": 17,
   "id": "fabf6313",
   "metadata": {},
   "outputs": [],
   "source": [
    "def fit_fct(model, train_iter, X_test, y_test, loss_function=nn.MSELoss(), lr=LEARNING_RATE, n_epochs=N_EPOCHS):\n",
    "    # You can also check what happens where there is no weight decay i.e. no L2 regularization\n",
    "    optimizer = torch.optim.Adam(model.parameters(), lr=lr, weight_decay=0)\n",
    "\n",
    "    train_losses = []\n",
    "    test_losses = []\n",
    "    for epoch in tqdm(range(n_epochs)):\n",
    "        # Your code here, write a training loop and plot train and test RMSE.\n",
    "        # Don't forget that the loss is the mean squared error.\n",
    "        # If you want to display RMSE, you need to take its square root.\n",
    "        \n",
    "        for x, y in train_iter:\n",
    "            optimizer.zero_grad()\n",
    "            y_pred = model(x)\n",
    "            loss = loss_function(y_pred, y)\n",
    "            loss.backward()\n",
    "            optimizer.step()\n",
    "            train_losses.append(torch.sqrt(loss).item())\n",
    "        \n",
    "        with torch.no_grad():\n",
    "            y_pred = model(X_test)\n",
    "            loss = loss_function(y_pred, y_test)\n",
    "            test_losses.append(torch.sqrt(loss).item())\n",
    "\n",
    "    if X_test is None:\n",
    "        return train_losses\n",
    "    return train_losses, test_losses"
   ]
  },
  {
   "cell_type": "code",
   "execution_count": 18,
   "metadata": {},
   "outputs": [
    {
     "name": "stderr",
     "output_type": "stream",
     "text": [
      "  0%|          | 0/2 [00:00<?, ?it/s]c:\\Users\\Grégoire\\AppData\\Local\\Programs\\Python\\Python310\\lib\\site-packages\\torch\\nn\\modules\\loss.py:536: UserWarning: Using a target size (torch.Size([256])) that is different to the input size (torch.Size([256, 256])). This will likely lead to incorrect results due to broadcasting. Please ensure they have the same size.\n",
      "  return F.mse_loss(input, target, reduction=self.reduction)\n",
      "c:\\Users\\Grégoire\\AppData\\Local\\Programs\\Python\\Python310\\lib\\site-packages\\torch\\nn\\modules\\loss.py:536: UserWarning: Using a target size (torch.Size([128])) that is different to the input size (torch.Size([128, 128])). This will likely lead to incorrect results due to broadcasting. Please ensure they have the same size.\n",
      "  return F.mse_loss(input, target, reduction=self.reduction)\n",
      "c:\\Users\\Grégoire\\AppData\\Local\\Programs\\Python\\Python310\\lib\\site-packages\\torch\\nn\\modules\\loss.py:536: UserWarning: Using a target size (torch.Size([20000])) that is different to the input size (torch.Size([20000, 20000])). This will likely lead to incorrect results due to broadcasting. Please ensure they have the same size.\n",
      "  return F.mse_loss(input, target, reduction=self.reduction)\n",
      "100%|██████████| 2/2 [00:05<00:00,  2.88s/it]\n"
     ]
    },
    {
     "data": {
      "image/png": "[encoded data removed]",
      "text/plain": [
       "<Figure size 640x480 with 1 Axes>"
      ]
     },
     "metadata": {},
     "output_type": "display_data"
    }
   ],
   "source": [
    "train_losses, test_losses = fit_fct(collab_model, train_iter, X_test, y_test)\n",
    "\n",
    "train_x = np.arange(len(train_losses))\n",
    "test_x = np.linspace(0, len(train_losses), len(test_losses))\n",
    "\n",
    "plt.plot(train_x, train_losses, label='train')\n",
    "plt.plot(test_x, test_losses, label='test')\n",
    "plt.legend()\n",
    "plt.show()"
   ]
  },
  {
   "cell_type": "code",
   "execution_count": 19,
   "id": "29184fa3",
   "metadata": {},
   "outputs": [
    {
     "data": {
      "text/plain": [
       "1.065113815325725"
      ]
     },
     "execution_count": 19,
     "metadata": {},
     "output_type": "execute_result"
    }
   ],
   "source": [
    "@torch.no_grad()\n",
    "def test(model, data_loader):\n",
    "  model.eval()\n",
    "  total_loss = 0\n",
    "  total_samples = 0\n",
    "  for x , ratings in data_loader:\n",
    "    predictions = model(x)\n",
    "    loss = our_rmse(predictions, ratings.float())\n",
    "    total_loss += loss.item()\n",
    "    total_samples += 1\n",
    "  return total_loss / total_samples\n",
    "\n",
    "test(collab_model, test_iter)"
   ]
  },
  {
   "cell_type": "markdown",
   "id": "d0ef1776",
   "metadata": {},
   "source": [
    "## Part 2: Implicit feedback\n",
    "\n",
    "In this section, we do not observe numerical ratings anymore, just sequences of items."
   ]
  },
  {
   "cell_type": "code",
   "execution_count": 20,
   "id": "c1353156",
   "metadata": {},
   "outputs": [
    {
     "data": {
      "text/plain": [
       "0.046179748491096004"
      ]
     },
     "execution_count": 20,
     "metadata": {},
     "output_type": "execute_result"
    }
   ],
   "source": [
    "from spotlight.cross_validation import user_based_train_test_split\n",
    "from spotlight.evaluation import sequence_mrr_score\n",
    "from spotlight.sequence.implicit import ImplicitSequenceModel\n",
    "\n",
    "# If you want to debug on a smaller dataset first, you can use this\n",
    "'''from spotlight.datasets.synthetic import generate_sequential\n",
    "dataset = generate_sequential(num_users=100,\n",
    "                              num_items=1000,\n",
    "                              num_interactions=10000,\n",
    "                              concentration_parameter=0.01,\n",
    "                              order=3)'''\n",
    "\n",
    "# Otherwise we reuse Movielens\n",
    "train, test = user_based_train_test_split(dataset)\n",
    "\n",
    "train = train.to_sequence()\n",
    "test = test.to_sequence()\n",
    "\n",
    "implicit_model = ImplicitSequenceModel(n_iter=3,\n",
    "                              representation='pooling',\n",
    "                              loss='pointwise')\n",
    "implicit_model.fit(train)\n",
    "\n",
    "sequence_mrr_score(implicit_model, test).mean()"
   ]
  },
  {
   "cell_type": "code",
   "execution_count": 21,
   "id": "e54b1ef3",
   "metadata": {},
   "outputs": [
    {
     "data": {
      "text/plain": [
       "<Sequence interactions dataset (8614 sequences x 10 sequence length)>"
      ]
     },
     "execution_count": 21,
     "metadata": {},
     "output_type": "execute_result"
    }
   ],
   "source": [
    "train"
   ]
  },
  {
   "cell_type": "code",
   "execution_count": 22,
   "id": "2f9baa58",
   "metadata": {},
   "outputs": [
    {
     "data": {
      "text/plain": [
       "{'sequences': array([[ 321,  260,  329, ...,  320,  317,  181],\n",
       "        [ 322,  330,  264, ...,  328,  348,  327],\n",
       "        [ 332,  307,  271, ...,  335,  323,  349],\n",
       "        ...,\n",
       "        [ 928,   24,  274, ..., 1047,  111,  284],\n",
       "        [ 763,   50,  412, ...,  685,  471,  405],\n",
       "        [   0,    0,   64, ..., 1067,  127,  508]]),\n",
       " 'user_ids': array([  3,   3,   3, ..., 943, 943, 943]),\n",
       " 'max_sequence_length': 10,\n",
       " 'num_items': 1683}"
      ]
     },
     "execution_count": 22,
     "metadata": {},
     "output_type": "execute_result"
    }
   ],
   "source": [
    "train.__dict__"
   ]
  },
  {
   "cell_type": "code",
   "execution_count": 23,
   "metadata": {},
   "outputs": [
    {
     "data": {
      "text/plain": [
       "(8614, 10)"
      ]
     },
     "execution_count": 23,
     "metadata": {},
     "output_type": "execute_result"
    }
   ],
   "source": [
    "train.__dict__['sequences'].shape"
   ]
  },
  {
   "cell_type": "markdown",
   "id": "6b4f57dc",
   "metadata": {},
   "source": [
    "The `train` dataset contains 8000+ sequences of length 10 representing the movies seen, IDs between 1 and 1683. \n",
    "\n",
    "We do have access to user IDs but we will not need them. Here, the maximum length of a sequence is 10, so sequences have been split to be of max size 10. Sequences having less than 10 items are padded with 0s.\n",
    "\n",
    "The objective becomes, given the first 9 items, predict the 10th item (classification). In order to have a better comparison of models, we are mainly interested in a ranking metric: in the ranked movies by probability, where was the correct answer? Mean reciprocal rank is, for $N$ samples:\n",
    "\n",
    "$${\\text{MRR}}={\\frac {1}{N}}\\sum _{{i=1}}^{{N}}{\\frac {1}{{\\text{rank}}_{i}}}$$\n",
    "\n",
    "where $\\text{rank}_i$ is a number between 1 and 1683, the number of items, which represents the rank of the expected answer, where movies are ranked by decreasing probability. The MRR is between 0 and 1 and higher is better (when all ranks are 1).\n",
    "\n",
    "Again, we will first attempt to reproduce the metric."
   ]
  },
  {
   "cell_type": "code",
   "execution_count": 24,
   "id": "ba62e759",
   "metadata": {},
   "outputs": [
    {
     "data": {
      "text/plain": [
       "(1825, 1683)"
      ]
     },
     "execution_count": 24,
     "metadata": {},
     "output_type": "execute_result"
    }
   ],
   "source": [
    "from sklearn.metrics import label_ranking_average_precision_score\n",
    "from sklearn.preprocessing import OneHotEncoder\n",
    "from scipy.special import softmax\n",
    "\n",
    "ohe = OneHotEncoder(categories=[list(range(train.num_items))])\n",
    "target = ohe.fit_transform(test.sequences[:, [-1]]).toarray()\n",
    "\n",
    "target.shape  # The target is a one-hot encoding of correct answers for each sample"
   ]
  },
  {
   "cell_type": "code",
   "execution_count": 25,
   "id": "e4a77620",
   "metadata": {},
   "outputs": [
    {
     "data": {
      "text/plain": [
       "array([[0.  , 0.  , 0.  , ..., 0.  , 0.  , 0.  ],\n",
       "       [0.  , 0.01, 0.  , ..., 0.  , 0.  , 0.  ],\n",
       "       [0.  , 0.01, 0.  , ..., 0.  , 0.  , 0.  ],\n",
       "       ...,\n",
       "       [0.  , 0.04, 0.  , ..., 0.  , 0.  , 0.  ],\n",
       "       [0.  , 0.  , 0.  , ..., 0.  , 0.  , 0.  ],\n",
       "       [0.  , 0.  , 0.  , ..., 0.  , 0.  , 0.  ]], dtype=float32)"
      ]
     },
     "execution_count": 25,
     "metadata": {},
     "output_type": "execute_result"
    }
   ],
   "source": [
    "implicit_y_pred = []\n",
    "for seq in test.sequences:\n",
    "    implicit_y_pred.append(softmax(implicit_model.predict(seq[:-1])))\n",
    "implicit_y_pred = np.array(implicit_y_pred)\n",
    "implicit_y_pred.round(2)  # The predictions are probabilities for each sample x item"
   ]
  },
  {
   "cell_type": "code",
   "execution_count": 26,
   "id": "b0fe2a58",
   "metadata": {},
   "outputs": [
    {
     "data": {
      "text/plain": [
       "0.04617974849109625"
      ]
     },
     "execution_count": 26,
     "metadata": {},
     "output_type": "execute_result"
    }
   ],
   "source": [
    "# This function is actually more generic as it can also consider multilabel classification\n",
    "# i.e. several correct answers for a sample. In our case (1 correct answer per sample) it is equal to MRR.\n",
    "label_ranking_average_precision_score(target, implicit_y_pred)"
   ]
  },
  {
   "cell_type": "markdown",
   "metadata": {},
   "source": [
    "### NOTE ###\n",
    "_____\n",
    "C'est pourris 0.04 de MRR, ça fait un rang moyen de 25, donc au mieux la probabilité moyenne est de 0.04 sur le vrai film.\n",
    "\n",
    "On va regarder la vraie probabilité moyenne."
   ]
  },
  {
   "cell_type": "code",
   "execution_count": 27,
   "metadata": {},
   "outputs": [
    {
     "data": {
      "text/plain": [
       "0.0020949424"
      ]
     },
     "execution_count": 27,
     "metadata": {},
     "output_type": "execute_result"
    }
   ],
   "source": [
    "# mean probability of the correct answer\n",
    "\n",
    "targ_idx = np.argmax(target, axis=1)\n",
    "implicit_y_pred[:, targ_idx].mean()"
   ]
  },
  {
   "cell_type": "markdown",
   "id": "3b2fe15b",
   "metadata": {},
   "source": [
    "Abyssale :o"
   ]
  },
  {
   "cell_type": "markdown",
   "id": "905b96e8",
   "metadata": {},
   "source": [
    "Again, we got the same number. We now show the metric for two simple baselines:"
   ]
  },
  {
   "cell_type": "code",
   "execution_count": 28,
   "id": "7e352b6b",
   "metadata": {},
   "outputs": [
    {
     "data": {
      "text/plain": [
       "0.006617992983827154"
      ]
     },
     "execution_count": 28,
     "metadata": {},
     "output_type": "execute_result"
    }
   ],
   "source": [
    "from collections import Counter\n",
    "\n",
    "item_counts = Counter(train.sequences[:, -1])\n",
    "most_popular_item = item_counts.most_common()[0][0]\n",
    "most_popular_baseline = np.zeros_like(target)\n",
    "most_popular_baseline[:, most_popular_item] = 1\n",
    "label_ranking_average_precision_score(target, most_popular_baseline)"
   ]
  },
  {
   "cell_type": "code",
   "execution_count": 29,
   "id": "72df46d9",
   "metadata": {},
   "outputs": [
    {
     "data": {
      "text/plain": [
       "0.025881157091307082"
      ]
     },
     "execution_count": 29,
     "metadata": {},
     "output_type": "execute_result"
    }
   ],
   "source": [
    "popularity = np.zeros(train.num_items)\n",
    "for item_id, count in item_counts.items():\n",
    "    popularity[item_id] = count\n",
    "popularity = softmax(popularity)\n",
    "popularity_baseline = np.tile(popularity, (len(target), 1))  # Repeat for each test sample\n",
    "\n",
    "label_ranking_average_precision_score(target, popularity_baseline)"
   ]
  },
  {
   "cell_type": "markdown",
   "id": "7718098d",
   "metadata": {},
   "source": [
    "You should now write a model / module that takes a batch of sequences of max 9 elements and should predict the next one.\n",
    "\n",
    "You can either take:\n",
    "- a sequential approach, i.e. RNN / LSTM / GRU or a transformer like [minGPT](https://github.com/karpathy/minGPT) (which is more complex; please start simple);\n",
    "- or a non-sequential one like [CBOW](https://lilianweng.github.io/posts/2017-10-15-word-embedding/#context-based-continuous-bag-of-words-cbow).\n",
    "\n",
    "Loss can either be cross-entropy (simple), [noise contrastive estimation, or negative sampling](https://lilianweng.github.io/posts/2017-10-15-word-embedding/#noise-contrastive-estimation-nce).\n",
    "\n",
    "The goal is to have comparable or better MRR than 0.04.\n",
    "\n",
    "P. S. – In order to ignore index 0 you can use `padding_idx` in [nn.Embedding](https://pytorch.org/docs/stable/generated/torch.nn.Embedding.html) or the function [`masked_select()`](https://pytorch.org/docs/stable/generated/torch.masked_select.html) for RNN."
   ]
  },
  {
   "cell_type": "code",
   "execution_count": 30,
   "id": "870ed6ec",
   "metadata": {},
   "outputs": [],
   "source": [
    "from Transformer import Transformer, Config"
   ]
  },
  {
   "cell_type": "code",
   "execution_count": 31,
   "id": "dd65d2c0",
   "metadata": {},
   "outputs": [],
   "source": [
    "def cross_entropy_loss(logits, tokens):\n",
    "    log_probs = torch.log_softmax(logits, dim=-1)\n",
    "    pred_log_probs = torch.gather(log_probs, 2, tokens.unsqueeze(-1)).squeeze(-1)\n",
    "    return -pred_log_probs.mean()"
   ]
  },
  {
   "cell_type": "code",
   "execution_count": 32,
   "id": "dd4297a9",
   "metadata": {},
   "outputs": [],
   "source": [
    "X_train = torch.LongTensor(train.sequences[:, :-1])\n",
    "y_train = torch.LongTensor(train.sequences[:, 1:])\n",
    "\n",
    "X_test = torch.LongTensor(test.sequences[:, :-1])\n",
    "y_test = torch.LongTensor(test.sequences[:, 1:])\n",
    "\n",
    "train_dataset = torch.utils.data.TensorDataset(X_train, y_train)\n",
    "test_dataset = torch.utils.data.TensorDataset(X_test, y_test)\n",
    "\n",
    "train_iter = torch.utils.data.DataLoader(train_dataset, batch_size=BATCH_SIZE, shuffle=True)\n",
    "test_iter = torch.utils.data.DataLoader(test_dataset, batch_size=BATCH_SIZE)"
   ]
  },
  {
   "cell_type": "code",
   "execution_count": 33,
   "id": "3d4e5c97",
   "metadata": {},
   "outputs": [],
   "source": [
    "nb_movies = train.num_items\n",
    "seq_length = train.max_sequence_length\n",
    "\n",
    "cfg = Config()\n",
    "\n",
    "cfg.d_residual: int = 32\n",
    "cfg.debug: bool = False\n",
    "cfg.layer_norm_eps: float = 1e-5\n",
    "cfg.d_vocab: int = nb_movies\n",
    "cfg.init_range: float = None\n",
    "cfg.max_length: int = seq_length\n",
    "d_mlp: int = 4 * cfg.d_residual\n",
    "cfg.d_head: int = 8\n",
    "cfg.n_heads: int = 4\n",
    "cfg.n_layers: int = 4\n",
    "\n",
    "transformer_model = Transformer(cfg)"
   ]
  },
  {
   "cell_type": "code",
   "execution_count": 34,
   "id": "c92a6fa2",
   "metadata": {},
   "outputs": [
    {
     "name": "stderr",
     "output_type": "stream",
     "text": [
      "100%|██████████| 10/10 [00:57<00:00,  5.71s/it]\n"
     ]
    },
    {
     "data": {
      "image/png": "[encoded data removed]",
      "text/plain": [
       "<Figure size 640x480 with 1 Axes>"
      ]
     },
     "metadata": {},
     "output_type": "display_data"
    }
   ],
   "source": [
    "train_losses, test_losses = fit_fct(transformer_model, train_iter, X_test, y_test, loss_function=cross_entropy_loss, lr = 1e-2, n_epochs=10)\n",
    "\n",
    "train_x = np.arange(len(train_losses))\n",
    "test_x = np.linspace(0, len(train_losses), len(test_losses))\n",
    "\n",
    "plt.plot(train_x, train_losses, label='train')\n",
    "plt.plot(test_x, test_losses, label='test')\n",
    "plt.xlabel('batch')\n",
    "plt.ylabel('loss')\n",
    "plt.legend()\n",
    "plt.show()"
   ]
  },
  {
   "cell_type": "code",
   "execution_count": 35,
   "id": "3b40d8b0",
   "metadata": {},
   "outputs": [
    {
     "data": {
      "text/plain": [
       "0.06146145440014181"
      ]
     },
     "execution_count": 35,
     "metadata": {},
     "output_type": "execute_result"
    }
   ],
   "source": [
    "logits = transformer_model(X_test)[:,-1].squeeze(1)\n",
    "transformer_y_pred = torch.softmax(logits, dim=-1)\n",
    "\n",
    "label_ranking_average_precision_score(target, transformer_y_pred.detach().numpy())"
   ]
  },
  {
   "cell_type": "markdown",
   "id": "877baf64",
   "metadata": {},
   "source": [
    "0.061 > 0.04 => je peux aller dormir en paix :o\n",
    "\n",
    "(j'ai relancé donc les chiffres sont peut être plus bons)"
   ]
  },
  {
   "cell_type": "code",
   "execution_count": 36,
   "id": "5ba7df13",
   "metadata": {},
   "outputs": [
    {
     "data": {
      "text/plain": [
       "0.0017515335930511355"
      ]
     },
     "execution_count": 36,
     "metadata": {},
     "output_type": "execute_result"
    }
   ],
   "source": [
    "targ_idx = np.argmax(target, axis=1)\n",
    "transformer_y_pred[:, targ_idx].mean().item()"
   ]
  },
  {
   "cell_type": "markdown",
   "id": "72d9f7fc",
   "metadata": {},
   "source": [
    "Alors, en fait, la proba moyenne d'avoir la bonne prédiction est moins bonne qu'avec le premier modèle proposé (0.0018 vs 0.0023), donc de ce point de vue mon transformer est moins bien, même si le rang moyen est passé de 25 à 16.\n",
    "\n",
    "Peut être que le transformer est plus sur de lui par rapport à l'autre modèle, donc quand il a faut, il a faut plus fort."
   ]
  },
  {
   "cell_type": "markdown",
   "id": "29a77249",
   "metadata": {},
   "source": [
    "J'ai bien dormi, et en fait 1/MRR c'est pas du tout le rang moyen, c'est la moyenne harmonique, donc les rangs faibles dominent. Donc c'est nul, on a l'impression qu'il est bon dès qu'il est bon une ou deux fois :o\n",
    "\n",
    "On va regarder le vrai rang moyen."
   ]
  },
  {
   "cell_type": "code",
   "execution_count": 39,
   "id": "671b13f7",
   "metadata": {},
   "outputs": [],
   "source": [
    "def mean_rank(y_pred, target):\n",
    "    targ_idx = np.argmax(target, axis=1)\n",
    "    y_perm = np.argsort(y_pred, axis=1)[:, ::-1]\n",
    "    perm_inv = np.arange(y_pred.shape[1])[y_perm]\n",
    "    return np.mean(perm_inv[:, targ_idx])"
   ]
  },
  {
   "cell_type": "code",
   "execution_count": 40,
   "id": "63f4dd78",
   "metadata": {},
   "outputs": [
    {
     "name": "stdout",
     "output_type": "stream",
     "text": [
      "Random: 840.71\n",
      "Implicit: 581.63\n",
      "Most popular: 608.47\n",
      "Popularity: 511.27\n",
      "Transformer: 602.07\n"
     ]
    }
   ],
   "source": [
    "random_y_pred = np.random.rand(*target.shape)\n",
    "random_y_pred = softmax(random_y_pred)\n",
    "\n",
    "random_mean_rank = mean_rank(random_y_pred, target)\n",
    "implicit_mean_rank = mean_rank(implicit_y_pred, target)\n",
    "most_popular_mean_rank = mean_rank(most_popular_baseline, target)\n",
    "popularity_mean_rank = mean_rank(popularity_baseline, target)\n",
    "transformer_mean_rank = mean_rank(transformer_y_pred.detach().numpy(), target)\n",
    "\n",
    "print(f\"Random: {random_mean_rank:.2f}\")\n",
    "print(f\"Implicit: {implicit_mean_rank:.2f}\")\n",
    "print(f\"Most popular: {most_popular_mean_rank:.2f}\")\n",
    "print(f\"Popularity: {popularity_mean_rank:.2f}\")\n",
    "print(f\"Transformer: {transformer_mean_rank:.2f}\")"
   ]
  },
  {
   "cell_type": "markdown",
   "id": "2f8e296b",
   "metadata": {},
   "source": [
    "C'est pas si étonnant que popularity et most popular soient bons, ils sont fait pour ça, mais c'est étonnant qu'on soit si mauvais... On est à peine mieux que l'aléatoire. Donc d'après la MRR, ça arrive pas trop rarement qu'on ait plutôt raison, et d'après la vraie moyenne, quand on a tord, on a vraiment tord :o"
   ]
  }
 ],
 "metadata": {
  "kernelspec": {
   "display_name": "Python 3 (ipykernel)",
   "language": "python",
   "name": "python3"
  },
  "language_info": {
   "codemirror_mode": {
    "name": "ipython",
    "version": 3
   },
   "file_extension": ".py",
   "mimetype": "text/x-python",
   "name": "python",
   "nbconvert_exporter": "python",
   "pygments_lexer": "ipython3",
   "version": "3.10.9"
  }
 },
 "nbformat": 4,
 "nbformat_minor": 5
}
